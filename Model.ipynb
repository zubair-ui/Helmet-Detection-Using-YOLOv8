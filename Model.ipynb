{
 "cells": [
  {
   "cell_type": "markdown",
   "id": "9c7793dd-34ef-4bee-b72e-ea4381a8a7c6",
   "metadata": {},
   "source": [
    "# Helmet Detection using YOLOv8"
   ]
  },
  {
   "cell_type": "markdown",
   "id": "fdab75fc-9818-4b75-98c4-ffbc1f0f1419",
   "metadata": {},
   "source": [
    "## Change the structure for YOLO Compatibility"
   ]
  },
  {
   "cell_type": "code",
   "execution_count": 1,
   "id": "b0da945a-a356-42a2-a42d-377c050e3c44",
   "metadata": {},
   "outputs": [
    {
     "name": "stdout",
     "output_type": "stream",
     "text": [
      "✅ YOLOv8 folder structure created!\n"
     ]
    }
   ],
   "source": [
    "import os\n",
    "\n",
    "# YOLO structure\n",
    "for split in ['train', 'val', 'test']:\n",
    "    os.makedirs(f'yolo/images/{split}', exist_ok=True)\n",
    "    os.makedirs(f'yolo/labels/{split}', exist_ok=True)\n",
    "\n",
    "print(\"✅ YOLOv8 folder structure created!\")\n"
   ]
  },
  {
   "cell_type": "code",
   "execution_count": 2,
   "id": "90dee752-0a05-41a8-82c6-d4f7893e8512",
   "metadata": {},
   "outputs": [],
   "source": [
    "import xml.etree.ElementTree as ET\n",
    "from sklearn.model_selection import train_test_split\n",
    "from tqdm import tqdm\n",
    "import shutil\n",
    "\n",
    "ANNOTATIONS_DIR = 'annotations'\n",
    "IMAGES_DIR = 'images'\n",
    "\n",
    "def convert_bbox_to_yolo(size, box):\n",
    "    dw = 1. / size[0]\n",
    "    dh = 1. / size[1]\n",
    "    x_center = (box[0] + box[2]) / 2.0 * dw\n",
    "    y_center = (box[1] + box[3]) / 2.0 * dh\n",
    "    width = (box[2] - box[0]) * dw\n",
    "    height = (box[3] - box[1]) * dh\n",
    "    return (x_center, y_center, width, height)\n",
    "\n",
    "# Collect all file names\n",
    "all_files = [f for f in os.listdir(ANNOTATIONS_DIR) if f.endswith('.xml')]\n",
    "\n",
    "# Split into train/val/test\n",
    "train_files, test_files = train_test_split(all_files, test_size=0.2, random_state=42)\n",
    "val_files, test_files = train_test_split(test_files, test_size=0.5, random_state=42)\n",
    "splits = {'train': train_files, 'val': val_files, 'test': test_files}\n"
   ]
  },
  {
   "cell_type": "code",
   "execution_count": 3,
   "id": "dfad8b08-5f12-47f3-a15c-f176ee8c1300",
   "metadata": {},
   "outputs": [
    {
     "name": "stderr",
     "output_type": "stream",
     "text": [
      "Processing train set: 100%|██████████████████████████████████████████████████████████| 611/611 [00:18<00:00, 33.68it/s]\n",
      "Processing val set: 100%|██████████████████████████████████████████████████████████████| 76/76 [00:02<00:00, 32.17it/s]\n",
      "Processing test set: 100%|█████████████████████████████████████████████████████████████| 77/77 [00:01<00:00, 39.51it/s]\n"
     ]
    }
   ],
   "source": [
    "for split, files in splits.items():\n",
    "    for file in tqdm(files, desc=f\"Processing {split} set\"):\n",
    "        image_id = file.replace('.xml', '')\n",
    "        xml_path = os.path.join(ANNOTATIONS_DIR, file)\n",
    "        img_path = os.path.join(IMAGES_DIR, image_id + \".png\")\n",
    "        output_txt_path = f\"yolo/labels/{split}/{image_id}.txt\"\n",
    "        output_img_path = f\"yolo/images/{split}/{image_id}.png\"\n",
    "\n",
    "        tree = ET.parse(xml_path)\n",
    "        root = tree.getroot()\n",
    "        size = root.find('size')\n",
    "        w = int(size.find('width').text)\n",
    "        h = int(size.find('height').text)\n",
    "\n",
    "        with open(output_txt_path, \"w\") as f:\n",
    "            for obj in root.findall('object'):\n",
    "                label = obj.find('name').text\n",
    "                if label == \"With Helmet\":\n",
    "                    class_id = 0  # Only one class\n",
    "                else:\n",
    "                    continue  # Skip unknown classes\n",
    "                bndbox = obj.find('bndbox')\n",
    "                xmin = int(bndbox.find('xmin').text)\n",
    "                ymin = int(bndbox.find('ymin').text)\n",
    "                xmax = int(bndbox.find('xmax').text)\n",
    "                ymax = int(bndbox.find('ymax').text)\n",
    "                yolo_bbox = convert_bbox_to_yolo((w, h), (xmin, ymin, xmax, ymax))\n",
    "                f.write(f\"{class_id} \" + \" \".join(f\"{x:.6f}\" for x in yolo_bbox) + \"\\n\")\n",
    "\n",
    "        # Copy image to split folder\n",
    "        shutil.copy(img_path, output_img_path)\n"
   ]
  },
  {
   "cell_type": "code",
   "execution_count": 4,
   "id": "767438b9-04c9-495f-b8a8-9483446e2776",
   "metadata": {},
   "outputs": [
    {
     "name": "stdout",
     "output_type": "stream",
     "text": [
      "✅ data.yaml created!\n"
     ]
    }
   ],
   "source": [
    "yaml_text = \"\"\"\n",
    "train: yolo/images/train\n",
    "val: yolo/images/val\n",
    "test: yolo/images/test\n",
    "\n",
    "nc: 1\n",
    "names: ['helmet']\n",
    "\"\"\"\n",
    "\n",
    "with open(\"yolo/data.yaml\", \"w\") as f:\n",
    "    f.write(yaml_text.strip())\n",
    "\n",
    "print(\"✅ data.yaml created!\")\n"
   ]
  },
  {
   "cell_type": "code",
   "execution_count": 6,
   "id": "9ef34559-0e95-4cfc-9148-706aa33a1439",
   "metadata": {},
   "outputs": [
    {
     "name": "stdout",
     "output_type": "stream",
     "text": [
      "✅ data.yaml updated with absolute paths!\n"
     ]
    }
   ],
   "source": [
    "import os\n",
    "\n",
    "base_path = os.path.abspath(\"yolo\")\n",
    "\n",
    "data_yaml = f\"\"\"\n",
    "train: {os.path.join(base_path, 'images/train').replace(os.sep, '/')}\n",
    "val: {os.path.join(base_path, 'images/val').replace(os.sep, '/')}\n",
    "test: {os.path.join(base_path, 'images/test').replace(os.sep, '/')}\n",
    "\n",
    "nc: 1\n",
    "names: ['helmet']\n",
    "\"\"\"\n",
    "\n",
    "with open(os.path.join(base_path, \"data.yaml\"), \"w\") as f:\n",
    "    f.write(data_yaml.strip())\n",
    "\n",
    "print(\"✅ data.yaml updated with absolute paths!\")\n"
   ]
  },
  {
   "cell_type": "markdown",
   "id": "b5059931-a962-43be-a403-f60a03735425",
   "metadata": {},
   "source": [
    "## Train YOLOv8 on the dataset\n"
   ]
  },
  {
   "cell_type": "code",
   "execution_count": 10,
   "id": "850133da-2821-44b4-a81c-c0330ced28ac",
   "metadata": {
    "scrolled": true
   },
   "outputs": [
    {
     "name": "stdout",
     "output_type": "stream",
     "text": [
      "Ultralytics 8.3.109  Python-3.12.3 torch-2.6.0+cpu CPU (Intel Core(TM) i5-4300M 2.60GHz)\n",
      "\u001b[34m\u001b[1mengine\\trainer: \u001b[0mtask=detect, mode=train, model=yolov8n.pt, data=yolo/data.yaml, epochs=5, time=None, patience=100, batch=16, imgsz=416, save=True, save_period=-1, cache=False, device=None, workers=8, project=helmet-detection, name=helmet_yolov8n, exist_ok=False, pretrained=True, optimizer=auto, verbose=True, seed=0, deterministic=True, single_cls=False, rect=False, cos_lr=False, close_mosaic=10, resume=False, amp=True, fraction=1.0, profile=False, freeze=None, multi_scale=False, overlap_mask=True, mask_ratio=4, dropout=0.0, val=True, split=val, save_json=False, conf=None, iou=0.7, max_det=300, half=False, dnn=False, plots=True, source=None, vid_stride=1, stream_buffer=False, visualize=False, augment=False, agnostic_nms=False, classes=None, retina_masks=False, embed=None, show=False, save_frames=False, save_txt=False, save_conf=False, save_crop=False, show_labels=True, show_conf=True, show_boxes=True, line_width=None, format=torchscript, keras=False, optimize=False, int8=False, dynamic=False, simplify=True, opset=None, workspace=None, nms=False, lr0=0.01, lrf=0.01, momentum=0.937, weight_decay=0.0005, warmup_epochs=3.0, warmup_momentum=0.8, warmup_bias_lr=0.1, box=7.5, cls=0.5, dfl=1.5, pose=12.0, kobj=1.0, nbs=64, hsv_h=0.015, hsv_s=0.7, hsv_v=0.4, degrees=0.0, translate=0.1, scale=0.5, shear=0.0, perspective=0.0, flipud=0.0, fliplr=0.5, bgr=0.0, mosaic=1.0, mixup=0.0, copy_paste=0.0, copy_paste_mode=flip, auto_augment=randaugment, erasing=0.4, cfg=None, tracker=botsort.yaml, save_dir=helmet-detection\\helmet_yolov8n\n",
      "Overriding model.yaml nc=80 with nc=1\n",
      "\n",
      "                   from  n    params  module                                       arguments                     \n",
      "  0                  -1  1       464  ultralytics.nn.modules.conv.Conv             [3, 16, 3, 2]                 \n",
      "  1                  -1  1      4672  ultralytics.nn.modules.conv.Conv             [16, 32, 3, 2]                \n",
      "  2                  -1  1      7360  ultralytics.nn.modules.block.C2f             [32, 32, 1, True]             \n",
      "  3                  -1  1     18560  ultralytics.nn.modules.conv.Conv             [32, 64, 3, 2]                \n",
      "  4                  -1  2     49664  ultralytics.nn.modules.block.C2f             [64, 64, 2, True]             \n",
      "  5                  -1  1     73984  ultralytics.nn.modules.conv.Conv             [64, 128, 3, 2]               \n",
      "  6                  -1  2    197632  ultralytics.nn.modules.block.C2f             [128, 128, 2, True]           \n",
      "  7                  -1  1    295424  ultralytics.nn.modules.conv.Conv             [128, 256, 3, 2]              \n",
      "  8                  -1  1    460288  ultralytics.nn.modules.block.C2f             [256, 256, 1, True]           \n",
      "  9                  -1  1    164608  ultralytics.nn.modules.block.SPPF            [256, 256, 5]                 \n",
      " 10                  -1  1         0  torch.nn.modules.upsampling.Upsample         [None, 2, 'nearest']          \n",
      " 11             [-1, 6]  1         0  ultralytics.nn.modules.conv.Concat           [1]                           \n",
      " 12                  -1  1    148224  ultralytics.nn.modules.block.C2f             [384, 128, 1]                 \n",
      " 13                  -1  1         0  torch.nn.modules.upsampling.Upsample         [None, 2, 'nearest']          \n",
      " 14             [-1, 4]  1         0  ultralytics.nn.modules.conv.Concat           [1]                           \n",
      " 15                  -1  1     37248  ultralytics.nn.modules.block.C2f             [192, 64, 1]                  \n",
      " 16                  -1  1     36992  ultralytics.nn.modules.conv.Conv             [64, 64, 3, 2]                \n",
      " 17            [-1, 12]  1         0  ultralytics.nn.modules.conv.Concat           [1]                           \n",
      " 18                  -1  1    123648  ultralytics.nn.modules.block.C2f             [192, 128, 1]                 \n",
      " 19                  -1  1    147712  ultralytics.nn.modules.conv.Conv             [128, 128, 3, 2]              \n",
      " 20             [-1, 9]  1         0  ultralytics.nn.modules.conv.Concat           [1]                           \n",
      " 21                  -1  1    493056  ultralytics.nn.modules.block.C2f             [384, 256, 1]                 \n",
      " 22        [15, 18, 21]  1    751507  ultralytics.nn.modules.head.Detect           [1, [64, 128, 256]]           \n",
      "Model summary: 129 layers, 3,011,043 parameters, 3,011,027 gradients, 8.2 GFLOPs\n",
      "\n",
      "Transferred 319/355 items from pretrained weights\n",
      "\u001b[34m\u001b[1mTensorBoard: \u001b[0mStart with 'tensorboard --logdir helmet-detection\\helmet_yolov8n', view at http://localhost:6006/\n",
      "Freezing layer 'model.22.dfl.conv.weight'\n"
     ]
    },
    {
     "name": "stderr",
     "output_type": "stream",
     "text": [
      "\u001b[34m\u001b[1mtrain: \u001b[0mScanning D:\\Zubair\\study\\Projects\\Helmet Detection using YOLOv8\\yolo\\labels\\train.cache... 611 images, 167 backg\u001b[0m"
     ]
    },
    {
     "name": "stdout",
     "output_type": "stream",
     "text": [
      "\u001b[34m\u001b[1mtrain: \u001b[0mWARNING  D:\\Zubair\\study\\Projects\\Helmet Detection using YOLOv8\\yolo\\images\\train\\BikesHelmets205.png: ignoring corrupt image/label: non-normalized or out of bounds coordinates [      263.5          43          85          74]\n",
      "\u001b[34m\u001b[1mtrain: \u001b[0mWARNING  D:\\Zubair\\study\\Projects\\Helmet Detection using YOLOv8\\yolo\\images\\train\\BikesHelmets279.png: ignoring corrupt image/label: non-normalized or out of bounds coordinates [      194.5          56         103         100]\n",
      "\u001b[34m\u001b[1mtrain: \u001b[0mWARNING  D:\\Zubair\\study\\Projects\\Helmet Detection using YOLOv8\\yolo\\images\\train\\BikesHelmets326.png: ignoring corrupt image/label: non-normalized or out of bounds coordinates [        157        56.5          86          97]\n",
      "\u001b[34m\u001b[1mtrain: \u001b[0mWARNING  D:\\Zubair\\study\\Projects\\Helmet Detection using YOLOv8\\yolo\\images\\train\\BikesHelmets343.png: ignoring corrupt image/label: non-normalized or out of bounds coordinates [     682.27       150.5      118.22         107]\n",
      "\u001b[34m\u001b[1mtrain: \u001b[0mWARNING  D:\\Zubair\\study\\Projects\\Helmet Detection using YOLOv8\\yolo\\images\\train\\BikesHelmets530.png: ignoring corrupt image/label: non-normalized or out of bounds coordinates [     313.35          74      102.11         116]\n",
      "\u001b[34m\u001b[1mtrain: \u001b[0mWARNING  D:\\Zubair\\study\\Projects\\Helmet Detection using YOLOv8\\yolo\\images\\train\\BikesHelmets616.png: ignoring corrupt image/label: non-normalized or out of bounds coordinates [        750       297.5          68          91]\n",
      "\u001b[34m\u001b[1mtrain: \u001b[0mWARNING  D:\\Zubair\\study\\Projects\\Helmet Detection using YOLOv8\\yolo\\images\\train\\BikesHelmets764.png: ignoring corrupt image/label: non-normalized or out of bounds coordinates [        219          91          80          82]\n"
     ]
    },
    {
     "name": "stderr",
     "output_type": "stream",
     "text": [
      "\n",
      "\u001b[34m\u001b[1mval: \u001b[0mScanning D:\\Zubair\\study\\Projects\\Helmet Detection using YOLOv8\\yolo\\labels\\val.cache... 76 images, 25 backgrounds\u001b[0m"
     ]
    },
    {
     "name": "stdout",
     "output_type": "stream",
     "text": [
      "\u001b[34m\u001b[1mval: \u001b[0mWARNING  D:\\Zubair\\study\\Projects\\Helmet Detection using YOLOv8\\yolo\\images\\val\\BikesHelmets75.png: ignoring corrupt image/label: non-normalized or out of bounds coordinates [        471       290.5          82         109         761       291.5          84          97       466.5         297         109         118]\n",
      "Plotting labels to helmet-detection\\helmet_yolov8n\\labels.jpg... \n"
     ]
    },
    {
     "name": "stderr",
     "output_type": "stream",
     "text": [
      "\n"
     ]
    },
    {
     "name": "stdout",
     "output_type": "stream",
     "text": [
      "\u001b[34m\u001b[1moptimizer:\u001b[0m 'optimizer=auto' found, ignoring 'lr0=0.01' and 'momentum=0.937' and determining best 'optimizer', 'lr0' and 'momentum' automatically... \n",
      "\u001b[34m\u001b[1moptimizer:\u001b[0m AdamW(lr=0.002, momentum=0.9) with parameter groups 57 weight(decay=0.0), 64 weight(decay=0.0005), 63 bias(decay=0.0)\n",
      "\u001b[34m\u001b[1mTensorBoard: \u001b[0mmodel graph visualization added \n",
      "Image sizes 416 train, 416 val\n",
      "Using 0 dataloader workers\n",
      "Logging results to \u001b[1mhelmet-detection\\helmet_yolov8n\u001b[0m\n",
      "Starting training for 5 epochs...\n",
      "\n",
      "      Epoch    GPU_mem   box_loss   cls_loss   dfl_loss  Instances       Size\n"
     ]
    },
    {
     "name": "stderr",
     "output_type": "stream",
     "text": [
      "        1/5         0G      1.467      2.357      1.168         34        416: 100%|██████████| 38/38 [02:56<00:00,  4.\n",
      "                 Class     Images  Instances      Box(P          R      mAP50  mAP50-95): 100%|██████████| 3/3 [00:09<0"
     ]
    },
    {
     "name": "stdout",
     "output_type": "stream",
     "text": [
      "                   all         75         82    0.00367      0.976      0.393      0.281\n"
     ]
    },
    {
     "name": "stderr",
     "output_type": "stream",
     "text": [
      "\n"
     ]
    },
    {
     "name": "stdout",
     "output_type": "stream",
     "text": [
      "\n",
      "      Epoch    GPU_mem   box_loss   cls_loss   dfl_loss  Instances       Size\n"
     ]
    },
    {
     "name": "stderr",
     "output_type": "stream",
     "text": [
      "        2/5         0G       1.38      1.495      1.123         26        416: 100%|██████████| 38/38 [02:42<00:00,  4.\n",
      "                 Class     Images  Instances      Box(P          R      mAP50  mAP50-95): 100%|██████████| 3/3 [00:07<0"
     ]
    },
    {
     "name": "stdout",
     "output_type": "stream",
     "text": [
      "                   all         75         82      0.784      0.441      0.647      0.406\n"
     ]
    },
    {
     "name": "stderr",
     "output_type": "stream",
     "text": [
      "\n"
     ]
    },
    {
     "name": "stdout",
     "output_type": "stream",
     "text": [
      "\n",
      "      Epoch    GPU_mem   box_loss   cls_loss   dfl_loss  Instances       Size\n"
     ]
    },
    {
     "name": "stderr",
     "output_type": "stream",
     "text": [
      "        3/5         0G      1.351      1.382      1.106         29        416: 100%|██████████| 38/38 [02:41<00:00,  4.\n",
      "                 Class     Images  Instances      Box(P          R      mAP50  mAP50-95): 100%|██████████| 3/3 [00:07<0"
     ]
    },
    {
     "name": "stdout",
     "output_type": "stream",
     "text": [
      "                   all         75         82      0.814       0.72      0.819      0.512\n"
     ]
    },
    {
     "name": "stderr",
     "output_type": "stream",
     "text": [
      "\n"
     ]
    },
    {
     "name": "stdout",
     "output_type": "stream",
     "text": [
      "\n",
      "      Epoch    GPU_mem   box_loss   cls_loss   dfl_loss  Instances       Size\n"
     ]
    },
    {
     "name": "stderr",
     "output_type": "stream",
     "text": [
      "        4/5         0G      1.315      1.256      1.121         31        416: 100%|██████████| 38/38 [02:41<00:00,  4.\n",
      "                 Class     Images  Instances      Box(P          R      mAP50  mAP50-95): 100%|██████████| 3/3 [00:07<0"
     ]
    },
    {
     "name": "stdout",
     "output_type": "stream",
     "text": [
      "                   all         75         82      0.865      0.704      0.827       0.55\n"
     ]
    },
    {
     "name": "stderr",
     "output_type": "stream",
     "text": [
      "\n"
     ]
    },
    {
     "name": "stdout",
     "output_type": "stream",
     "text": [
      "\n",
      "      Epoch    GPU_mem   box_loss   cls_loss   dfl_loss  Instances       Size\n"
     ]
    },
    {
     "name": "stderr",
     "output_type": "stream",
     "text": [
      "        5/5         0G       1.29      1.161      1.065         38        416: 100%|██████████| 38/38 [02:42<00:00,  4.\n",
      "                 Class     Images  Instances      Box(P          R      mAP50  mAP50-95): 100%|██████████| 3/3 [00:07<0"
     ]
    },
    {
     "name": "stdout",
     "output_type": "stream",
     "text": [
      "                   all         75         82      0.779      0.775      0.845      0.549\n"
     ]
    },
    {
     "name": "stderr",
     "output_type": "stream",
     "text": [
      "\n"
     ]
    },
    {
     "name": "stdout",
     "output_type": "stream",
     "text": [
      "\n",
      "5 epochs completed in 0.242 hours.\n",
      "Optimizer stripped from helmet-detection\\helmet_yolov8n\\weights\\last.pt, 6.2MB\n",
      "Optimizer stripped from helmet-detection\\helmet_yolov8n\\weights\\best.pt, 6.2MB\n",
      "\n",
      "Validating helmet-detection\\helmet_yolov8n\\weights\\best.pt...\n",
      "Ultralytics 8.3.109  Python-3.12.3 torch-2.6.0+cpu CPU (Intel Core(TM) i5-4300M 2.60GHz)\n",
      "Model summary (fused): 72 layers, 3,005,843 parameters, 0 gradients, 8.1 GFLOPs\n"
     ]
    },
    {
     "name": "stderr",
     "output_type": "stream",
     "text": [
      "                 Class     Images  Instances      Box(P          R      mAP50  mAP50-95): 100%|██████████| 3/3 [00:06<0\n"
     ]
    },
    {
     "name": "stdout",
     "output_type": "stream",
     "text": [
      "                   all         75         82      0.779      0.775      0.845      0.549\n",
      "Speed: 1.2ms preprocess, 66.2ms inference, 0.0ms loss, 3.5ms postprocess per image\n",
      "Results saved to \u001b[1mhelmet-detection\\helmet_yolov8n\u001b[0m\n"
     ]
    },
    {
     "data": {
      "text/plain": [
       "ultralytics.utils.metrics.DetMetrics object with attributes:\n",
       "\n",
       "ap_class_index: array([0])\n",
       "box: ultralytics.utils.metrics.Metric object\n",
       "confusion_matrix: <ultralytics.utils.metrics.ConfusionMatrix object at 0x0000025D335A9D00>\n",
       "curves: ['Precision-Recall(B)', 'F1-Confidence(B)', 'Precision-Confidence(B)', 'Recall-Confidence(B)']\n",
       "curves_results: [[array([          0,    0.001001,    0.002002,    0.003003,    0.004004,    0.005005,    0.006006,    0.007007,    0.008008,    0.009009,     0.01001,    0.011011,    0.012012,    0.013013,    0.014014,    0.015015,    0.016016,    0.017017,    0.018018,    0.019019,     0.02002,    0.021021,    0.022022,    0.023023,\n",
       "          0.024024,    0.025025,    0.026026,    0.027027,    0.028028,    0.029029,     0.03003,    0.031031,    0.032032,    0.033033,    0.034034,    0.035035,    0.036036,    0.037037,    0.038038,    0.039039,     0.04004,    0.041041,    0.042042,    0.043043,    0.044044,    0.045045,    0.046046,    0.047047,\n",
       "          0.048048,    0.049049,     0.05005,    0.051051,    0.052052,    0.053053,    0.054054,    0.055055,    0.056056,    0.057057,    0.058058,    0.059059,     0.06006,    0.061061,    0.062062,    0.063063,    0.064064,    0.065065,    0.066066,    0.067067,    0.068068,    0.069069,     0.07007,    0.071071,\n",
       "          0.072072,    0.073073,    0.074074,    0.075075,    0.076076,    0.077077,    0.078078,    0.079079,     0.08008,    0.081081,    0.082082,    0.083083,    0.084084,    0.085085,    0.086086,    0.087087,    0.088088,    0.089089,     0.09009,    0.091091,    0.092092,    0.093093,    0.094094,    0.095095,\n",
       "          0.096096,    0.097097,    0.098098,    0.099099,      0.1001,      0.1011,      0.1021,      0.1031,      0.1041,     0.10511,     0.10611,     0.10711,     0.10811,     0.10911,     0.11011,     0.11111,     0.11211,     0.11311,     0.11411,     0.11512,     0.11612,     0.11712,     0.11812,     0.11912,\n",
       "           0.12012,     0.12112,     0.12212,     0.12312,     0.12412,     0.12513,     0.12613,     0.12713,     0.12813,     0.12913,     0.13013,     0.13113,     0.13213,     0.13313,     0.13413,     0.13514,     0.13614,     0.13714,     0.13814,     0.13914,     0.14014,     0.14114,     0.14214,     0.14314,\n",
       "           0.14414,     0.14515,     0.14615,     0.14715,     0.14815,     0.14915,     0.15015,     0.15115,     0.15215,     0.15315,     0.15415,     0.15516,     0.15616,     0.15716,     0.15816,     0.15916,     0.16016,     0.16116,     0.16216,     0.16316,     0.16416,     0.16517,     0.16617,     0.16717,\n",
       "           0.16817,     0.16917,     0.17017,     0.17117,     0.17217,     0.17317,     0.17417,     0.17518,     0.17618,     0.17718,     0.17818,     0.17918,     0.18018,     0.18118,     0.18218,     0.18318,     0.18418,     0.18519,     0.18619,     0.18719,     0.18819,     0.18919,     0.19019,     0.19119,\n",
       "           0.19219,     0.19319,     0.19419,      0.1952,      0.1962,      0.1972,      0.1982,      0.1992,      0.2002,      0.2012,      0.2022,      0.2032,      0.2042,     0.20521,     0.20621,     0.20721,     0.20821,     0.20921,     0.21021,     0.21121,     0.21221,     0.21321,     0.21421,     0.21522,\n",
       "           0.21622,     0.21722,     0.21822,     0.21922,     0.22022,     0.22122,     0.22222,     0.22322,     0.22422,     0.22523,     0.22623,     0.22723,     0.22823,     0.22923,     0.23023,     0.23123,     0.23223,     0.23323,     0.23423,     0.23524,     0.23624,     0.23724,     0.23824,     0.23924,\n",
       "           0.24024,     0.24124,     0.24224,     0.24324,     0.24424,     0.24525,     0.24625,     0.24725,     0.24825,     0.24925,     0.25025,     0.25125,     0.25225,     0.25325,     0.25425,     0.25526,     0.25626,     0.25726,     0.25826,     0.25926,     0.26026,     0.26126,     0.26226,     0.26326,\n",
       "           0.26426,     0.26527,     0.26627,     0.26727,     0.26827,     0.26927,     0.27027,     0.27127,     0.27227,     0.27327,     0.27427,     0.27528,     0.27628,     0.27728,     0.27828,     0.27928,     0.28028,     0.28128,     0.28228,     0.28328,     0.28428,     0.28529,     0.28629,     0.28729,\n",
       "           0.28829,     0.28929,     0.29029,     0.29129,     0.29229,     0.29329,     0.29429,      0.2953,      0.2963,      0.2973,      0.2983,      0.2993,      0.3003,      0.3013,      0.3023,      0.3033,      0.3043,     0.30531,     0.30631,     0.30731,     0.30831,     0.30931,     0.31031,     0.31131,\n",
       "           0.31231,     0.31331,     0.31431,     0.31532,     0.31632,     0.31732,     0.31832,     0.31932,     0.32032,     0.32132,     0.32232,     0.32332,     0.32432,     0.32533,     0.32633,     0.32733,     0.32833,     0.32933,     0.33033,     0.33133,     0.33233,     0.33333,     0.33433,     0.33534,\n",
       "           0.33634,     0.33734,     0.33834,     0.33934,     0.34034,     0.34134,     0.34234,     0.34334,     0.34434,     0.34535,     0.34635,     0.34735,     0.34835,     0.34935,     0.35035,     0.35135,     0.35235,     0.35335,     0.35435,     0.35536,     0.35636,     0.35736,     0.35836,     0.35936,\n",
       "           0.36036,     0.36136,     0.36236,     0.36336,     0.36436,     0.36537,     0.36637,     0.36737,     0.36837,     0.36937,     0.37037,     0.37137,     0.37237,     0.37337,     0.37437,     0.37538,     0.37638,     0.37738,     0.37838,     0.37938,     0.38038,     0.38138,     0.38238,     0.38338,\n",
       "           0.38438,     0.38539,     0.38639,     0.38739,     0.38839,     0.38939,     0.39039,     0.39139,     0.39239,     0.39339,     0.39439,      0.3954,      0.3964,      0.3974,      0.3984,      0.3994,      0.4004,      0.4014,      0.4024,      0.4034,      0.4044,     0.40541,     0.40641,     0.40741,\n",
       "           0.40841,     0.40941,     0.41041,     0.41141,     0.41241,     0.41341,     0.41441,     0.41542,     0.41642,     0.41742,     0.41842,     0.41942,     0.42042,     0.42142,     0.42242,     0.42342,     0.42442,     0.42543,     0.42643,     0.42743,     0.42843,     0.42943,     0.43043,     0.43143,\n",
       "           0.43243,     0.43343,     0.43443,     0.43544,     0.43644,     0.43744,     0.43844,     0.43944,     0.44044,     0.44144,     0.44244,     0.44344,     0.44444,     0.44545,     0.44645,     0.44745,     0.44845,     0.44945,     0.45045,     0.45145,     0.45245,     0.45345,     0.45445,     0.45546,\n",
       "           0.45646,     0.45746,     0.45846,     0.45946,     0.46046,     0.46146,     0.46246,     0.46346,     0.46446,     0.46547,     0.46647,     0.46747,     0.46847,     0.46947,     0.47047,     0.47147,     0.47247,     0.47347,     0.47447,     0.47548,     0.47648,     0.47748,     0.47848,     0.47948,\n",
       "           0.48048,     0.48148,     0.48248,     0.48348,     0.48448,     0.48549,     0.48649,     0.48749,     0.48849,     0.48949,     0.49049,     0.49149,     0.49249,     0.49349,     0.49449,      0.4955,      0.4965,      0.4975,      0.4985,      0.4995,      0.5005,      0.5015,      0.5025,      0.5035,\n",
       "            0.5045,     0.50551,     0.50651,     0.50751,     0.50851,     0.50951,     0.51051,     0.51151,     0.51251,     0.51351,     0.51451,     0.51552,     0.51652,     0.51752,     0.51852,     0.51952,     0.52052,     0.52152,     0.52252,     0.52352,     0.52452,     0.52553,     0.52653,     0.52753,\n",
       "           0.52853,     0.52953,     0.53053,     0.53153,     0.53253,     0.53353,     0.53453,     0.53554,     0.53654,     0.53754,     0.53854,     0.53954,     0.54054,     0.54154,     0.54254,     0.54354,     0.54454,     0.54555,     0.54655,     0.54755,     0.54855,     0.54955,     0.55055,     0.55155,\n",
       "           0.55255,     0.55355,     0.55455,     0.55556,     0.55656,     0.55756,     0.55856,     0.55956,     0.56056,     0.56156,     0.56256,     0.56356,     0.56456,     0.56557,     0.56657,     0.56757,     0.56857,     0.56957,     0.57057,     0.57157,     0.57257,     0.57357,     0.57457,     0.57558,\n",
       "           0.57658,     0.57758,     0.57858,     0.57958,     0.58058,     0.58158,     0.58258,     0.58358,     0.58458,     0.58559,     0.58659,     0.58759,     0.58859,     0.58959,     0.59059,     0.59159,     0.59259,     0.59359,     0.59459,      0.5956,      0.5966,      0.5976,      0.5986,      0.5996,\n",
       "            0.6006,      0.6016,      0.6026,      0.6036,      0.6046,     0.60561,     0.60661,     0.60761,     0.60861,     0.60961,     0.61061,     0.61161,     0.61261,     0.61361,     0.61461,     0.61562,     0.61662,     0.61762,     0.61862,     0.61962,     0.62062,     0.62162,     0.62262,     0.62362,\n",
       "           0.62462,     0.62563,     0.62663,     0.62763,     0.62863,     0.62963,     0.63063,     0.63163,     0.63263,     0.63363,     0.63463,     0.63564,     0.63664,     0.63764,     0.63864,     0.63964,     0.64064,     0.64164,     0.64264,     0.64364,     0.64464,     0.64565,     0.64665,     0.64765,\n",
       "           0.64865,     0.64965,     0.65065,     0.65165,     0.65265,     0.65365,     0.65465,     0.65566,     0.65666,     0.65766,     0.65866,     0.65966,     0.66066,     0.66166,     0.66266,     0.66366,     0.66466,     0.66567,     0.66667,     0.66767,     0.66867,     0.66967,     0.67067,     0.67167,\n",
       "           0.67267,     0.67367,     0.67467,     0.67568,     0.67668,     0.67768,     0.67868,     0.67968,     0.68068,     0.68168,     0.68268,     0.68368,     0.68468,     0.68569,     0.68669,     0.68769,     0.68869,     0.68969,     0.69069,     0.69169,     0.69269,     0.69369,     0.69469,      0.6957,\n",
       "            0.6967,      0.6977,      0.6987,      0.6997,      0.7007,      0.7017,      0.7027,      0.7037,      0.7047,     0.70571,     0.70671,     0.70771,     0.70871,     0.70971,     0.71071,     0.71171,     0.71271,     0.71371,     0.71471,     0.71572,     0.71672,     0.71772,     0.71872,     0.71972,\n",
       "           0.72072,     0.72172,     0.72272,     0.72372,     0.72472,     0.72573,     0.72673,     0.72773,     0.72873,     0.72973,     0.73073,     0.73173,     0.73273,     0.73373,     0.73473,     0.73574,     0.73674,     0.73774,     0.73874,     0.73974,     0.74074,     0.74174,     0.74274,     0.74374,\n",
       "           0.74474,     0.74575,     0.74675,     0.74775,     0.74875,     0.74975,     0.75075,     0.75175,     0.75275,     0.75375,     0.75475,     0.75576,     0.75676,     0.75776,     0.75876,     0.75976,     0.76076,     0.76176,     0.76276,     0.76376,     0.76476,     0.76577,     0.76677,     0.76777,\n",
       "           0.76877,     0.76977,     0.77077,     0.77177,     0.77277,     0.77377,     0.77477,     0.77578,     0.77678,     0.77778,     0.77878,     0.77978,     0.78078,     0.78178,     0.78278,     0.78378,     0.78478,     0.78579,     0.78679,     0.78779,     0.78879,     0.78979,     0.79079,     0.79179,\n",
       "           0.79279,     0.79379,     0.79479,      0.7958,      0.7968,      0.7978,      0.7988,      0.7998,      0.8008,      0.8018,      0.8028,      0.8038,      0.8048,     0.80581,     0.80681,     0.80781,     0.80881,     0.80981,     0.81081,     0.81181,     0.81281,     0.81381,     0.81481,     0.81582,\n",
       "           0.81682,     0.81782,     0.81882,     0.81982,     0.82082,     0.82182,     0.82282,     0.82382,     0.82482,     0.82583,     0.82683,     0.82783,     0.82883,     0.82983,     0.83083,     0.83183,     0.83283,     0.83383,     0.83483,     0.83584,     0.83684,     0.83784,     0.83884,     0.83984,\n",
       "           0.84084,     0.84184,     0.84284,     0.84384,     0.84484,     0.84585,     0.84685,     0.84785,     0.84885,     0.84985,     0.85085,     0.85185,     0.85285,     0.85385,     0.85485,     0.85586,     0.85686,     0.85786,     0.85886,     0.85986,     0.86086,     0.86186,     0.86286,     0.86386,\n",
       "           0.86486,     0.86587,     0.86687,     0.86787,     0.86887,     0.86987,     0.87087,     0.87187,     0.87287,     0.87387,     0.87487,     0.87588,     0.87688,     0.87788,     0.87888,     0.87988,     0.88088,     0.88188,     0.88288,     0.88388,     0.88488,     0.88589,     0.88689,     0.88789,\n",
       "           0.88889,     0.88989,     0.89089,     0.89189,     0.89289,     0.89389,     0.89489,      0.8959,      0.8969,      0.8979,      0.8989,      0.8999,      0.9009,      0.9019,      0.9029,      0.9039,      0.9049,     0.90591,     0.90691,     0.90791,     0.90891,     0.90991,     0.91091,     0.91191,\n",
       "           0.91291,     0.91391,     0.91491,     0.91592,     0.91692,     0.91792,     0.91892,     0.91992,     0.92092,     0.92192,     0.92292,     0.92392,     0.92492,     0.92593,     0.92693,     0.92793,     0.92893,     0.92993,     0.93093,     0.93193,     0.93293,     0.93393,     0.93493,     0.93594,\n",
       "           0.93694,     0.93794,     0.93894,     0.93994,     0.94094,     0.94194,     0.94294,     0.94394,     0.94494,     0.94595,     0.94695,     0.94795,     0.94895,     0.94995,     0.95095,     0.95195,     0.95295,     0.95395,     0.95495,     0.95596,     0.95696,     0.95796,     0.95896,     0.95996,\n",
       "           0.96096,     0.96196,     0.96296,     0.96396,     0.96496,     0.96597,     0.96697,     0.96797,     0.96897,     0.96997,     0.97097,     0.97197,     0.97297,     0.97397,     0.97497,     0.97598,     0.97698,     0.97798,     0.97898,     0.97998,     0.98098,     0.98198,     0.98298,     0.98398,\n",
       "           0.98498,     0.98599,     0.98699,     0.98799,     0.98899,     0.98999,     0.99099,     0.99199,     0.99299,     0.99399,     0.99499,       0.996,       0.997,       0.998,       0.999,           1]), array([[          1,           1,           1,           1,           1,           1,           1,           1,           1,           1,           1,           1,           1,           1,           1,           1,           1,           1,           1,           1,           1,           1,           1,\n",
       "                  1,           1,           1,           1,           1,           1,           1,           1,           1,           1,           1,           1,           1,           1,           1,           1,           1,           1,           1,           1,           1,           1,           1,\n",
       "                  1,           1,           1,           1,           1,           1,           1,           1,           1,           1,           1,           1,           1,           1,           1,           1,           1,           1,           1,           1,           1,           1,           1,\n",
       "                  1,           1,           1,           1,           1,           1,           1,           1,           1,           1,           1,           1,           1,           1,           1,           1,           1,           1,           1,           1,           1,           1,           1,\n",
       "                  1,           1,           1,           1,           1,           1,           1,           1,           1,           1,           1,           1,           1,           1,           1,           1,           1,           1,           1,           1,           1,           1,           1,\n",
       "                  1,           1,           1,           1,           1,           1,           1,           1,           1,           1,           1,           1,           1,           1,           1,           1,           1,           1,           1,           1,           1,           1,           1,\n",
       "                  1,           1,           1,           1,           1,           1,           1,           1,           1,           1,           1,           1,           1,           1,           1,           1,           1,           1,           1,           1,           1,        0.95,        0.95,\n",
       "               0.95,        0.95,        0.95,        0.95,        0.95,        0.95,        0.95,        0.95,        0.95,        0.95,        0.95,        0.95,        0.95,        0.95,        0.95,        0.95,        0.95,        0.95,        0.95,        0.95,        0.95,        0.95,        0.95,\n",
       "               0.95,        0.95,        0.95,        0.95,        0.95,        0.95,        0.95,        0.95,        0.95,        0.95,        0.95,        0.95,        0.95,        0.95,        0.95,        0.95,        0.95,        0.95,        0.95,        0.95,        0.95,        0.95,        0.95,\n",
       "               0.95,        0.95,        0.95,        0.95,        0.95,        0.95,        0.95,        0.95,        0.95,        0.95,        0.95,        0.95,        0.95,        0.95,        0.95,        0.95,        0.95,        0.95,        0.95,        0.95,        0.95,        0.95,        0.95,\n",
       "               0.95,        0.95,     0.91667,     0.91667,     0.91667,     0.91667,     0.91667,     0.91667,     0.91667,     0.91667,     0.91667,     0.91667,     0.91667,     0.91667,     0.91667,     0.91667,     0.91667,     0.91667,     0.91667,     0.91667,     0.91667,     0.91667,     0.91667,\n",
       "            0.91667,     0.91667,     0.91667,     0.91667,     0.91667,     0.91667,     0.91667,     0.91667,     0.91667,     0.91667,     0.91667,     0.91667,     0.91667,     0.91667,     0.91667,     0.91667,     0.91176,     0.91176,     0.91176,     0.91176,     0.91176,     0.91176,     0.91176,\n",
       "            0.91176,     0.91176,     0.91176,     0.91176,     0.91176,     0.91176,     0.91176,     0.91176,     0.91176,     0.91176,     0.91176,     0.91176,     0.91176,     0.91176,     0.91176,     0.91176,     0.91176,     0.91176,     0.91176,     0.91176,     0.91176,     0.91176,     0.91176,\n",
       "            0.91176,     0.91176,     0.91176,     0.91176,     0.91176,     0.91176,     0.91176,     0.91176,     0.91176,     0.91176,     0.91176,     0.91176,     0.91176,     0.91176,     0.91176,     0.91176,     0.91176,     0.91176,     0.91176,     0.91176,     0.91176,     0.91176,     0.91176,\n",
       "            0.91176,     0.91176,     0.91176,     0.91176,     0.91176,     0.91176,     0.91176,     0.91176,     0.91176,     0.91176,     0.91176,     0.91176,     0.91176,     0.91176,     0.91176,     0.91176,     0.91176,     0.91176,     0.91176,     0.91176,     0.91176,     0.91176,     0.91176,\n",
       "            0.91176,     0.91176,     0.91176,     0.91176,     0.91176,     0.91176,     0.91176,     0.91176,     0.91176,     0.91176,     0.91176,     0.91176,     0.91176,     0.91176,     0.91176,     0.91176,     0.91176,     0.91176,     0.91176,     0.91176,     0.91176,     0.91176,     0.91176,\n",
       "            0.91176,     0.91176,     0.91176,     0.91176,     0.91176,     0.91176,     0.91176,     0.91176,     0.91176,     0.91176,      0.8913,      0.8913,      0.8913,      0.8913,      0.8913,      0.8913,      0.8913,      0.8913,      0.8913,      0.8913,      0.8913,      0.8913,      0.8913,\n",
       "             0.8913,      0.8913,      0.8913,      0.8913,      0.8913,      0.8913,      0.8913,      0.8913,      0.8913,      0.8913,      0.8913,      0.8913,      0.8913,      0.8913,      0.8913,      0.8913,      0.8913,      0.8913,      0.8913,      0.8913,      0.8913,      0.8913,      0.8913,\n",
       "             0.8913,      0.8913,      0.8913,      0.8913,      0.8913,      0.8913,      0.8913,      0.8913,      0.8913,      0.8913,      0.8913,      0.8913,      0.8913,      0.8913,      0.8913,      0.8913,      0.8913,      0.8913,      0.8913,      0.8913,      0.8913,      0.8913,      0.8913,\n",
       "             0.8913,      0.8913,      0.8913,      0.8913,      0.8913,      0.8913,      0.8913,      0.8913,      0.8913,      0.8913,      0.8913,      0.8913,      0.8913,      0.8913,      0.8913,      0.8913,      0.8913,      0.8913,      0.8913,      0.8913,      0.8913,      0.8913,      0.8913,\n",
       "             0.8913,      0.8913,      0.8913,      0.8913,      0.8913,      0.8913,      0.8913,      0.8913,      0.8913,      0.8913,      0.8913,      0.8913,      0.8913,      0.8913,      0.8913,      0.8913,      0.8913,      0.8913,      0.8913,      0.8913,      0.8913,      0.8913,      0.8913,\n",
       "             0.8913,      0.8913,      0.8913,      0.8913,      0.8913,      0.8913,      0.8913,      0.8913,      0.8913,      0.8913,      0.8913,      0.8913,      0.8913,      0.8913,      0.8913,      0.8913,      0.8913,     0.87719,     0.87719,     0.87719,     0.87719,     0.87719,     0.87719,\n",
       "            0.87719,     0.87719,     0.87719,     0.87719,     0.87719,     0.87719,     0.87719,     0.87719,     0.87719,     0.87719,     0.87719,     0.87719,     0.87719,     0.87719,     0.87719,     0.87719,     0.87719,     0.87719,     0.87719,     0.87719,     0.87719,     0.87719,     0.87719,\n",
       "            0.87719,     0.87719,     0.87719,     0.87719,     0.87719,     0.87719,     0.87719,     0.87719,     0.87719,     0.87719,     0.87719,     0.87719,     0.87719,     0.87719,     0.87719,     0.87719,     0.87719,     0.87719,     0.87719,     0.87719,     0.87719,     0.87719,     0.87719,\n",
       "            0.87719,     0.87719,     0.87719,     0.87719,     0.87719,     0.87719,     0.87719,     0.87719,     0.87719,     0.87719,     0.87719,     0.87719,     0.87719,     0.87719,     0.87719,     0.87719,     0.87719,     0.87719,     0.87719,     0.87719,     0.87719,     0.87719,     0.87719,\n",
       "            0.87719,     0.87719,     0.87719,     0.87719,     0.87719,     0.87719,     0.87719,     0.87719,     0.87719,     0.87719,     0.87719,     0.87719,     0.87719,     0.87719,     0.87719,     0.87719,     0.87719,     0.87719,     0.87719,     0.87719,     0.87719,     0.87719,     0.87719,\n",
       "            0.87719,     0.87719,     0.87719,     0.87719,     0.87719,     0.87719,     0.87719,     0.87719,     0.87719,     0.87719,     0.87719,     0.87719,     0.86885,     0.86885,     0.86885,     0.86885,     0.86885,     0.86885,     0.86885,     0.86885,     0.86885,     0.86885,     0.86885,\n",
       "            0.86885,     0.86885,     0.86885,     0.86885,     0.86885,     0.86885,     0.86885,     0.86885,     0.86885,     0.86885,     0.86885,     0.86885,     0.86885,     0.86885,     0.86885,     0.86885,     0.86885,     0.86885,     0.86885,     0.86885,     0.86885,     0.86885,     0.86885,\n",
       "            0.86885,     0.86885,     0.86364,     0.86364,     0.86364,     0.86364,     0.86364,     0.86364,     0.86364,     0.86364,     0.86364,     0.86364,     0.86364,     0.86364,     0.86364,     0.86364,     0.86364,     0.86364,     0.86364,     0.86364,     0.86364,     0.86364,     0.86364,\n",
       "            0.86364,     0.86364,     0.86364,     0.86364,     0.86364,     0.86364,     0.86364,     0.86364,     0.86364,     0.86364,     0.86364,     0.86364,     0.86364,     0.86364,     0.86364,     0.86364,     0.86364,     0.86364,     0.86364,     0.86364,     0.86364,     0.86364,     0.86364,\n",
       "            0.86364,     0.86364,     0.86364,     0.86364,     0.86364,     0.85294,     0.85294,     0.85294,     0.85294,     0.85294,     0.85294,     0.85294,     0.85294,     0.85294,     0.85294,     0.85294,     0.85294,     0.84286,     0.84286,     0.84286,     0.84286,     0.84286,     0.84286,\n",
       "            0.84286,     0.84286,     0.84286,     0.84286,     0.84286,     0.84286,     0.82192,     0.82192,     0.82192,     0.82192,     0.82192,     0.82192,     0.82192,     0.82192,     0.82192,     0.82192,     0.82192,     0.82192,     0.81579,     0.81579,     0.81579,     0.81579,     0.81579,\n",
       "            0.81579,     0.81579,     0.81579,     0.81579,     0.81579,     0.81579,     0.81579,     0.81579,     0.81579,     0.81579,     0.81579,     0.81579,     0.81579,     0.81579,     0.81579,     0.81579,     0.81579,     0.81579,     0.81579,     0.81579,     0.79747,     0.79747,     0.79747,\n",
       "            0.79747,     0.79747,     0.79747,     0.79747,     0.79747,     0.79747,     0.79747,     0.79747,     0.79747,     0.78049,     0.78049,     0.78049,     0.78049,     0.78049,     0.78049,     0.78049,     0.78049,     0.78049,     0.78049,     0.78049,     0.78049,     0.76744,     0.76744,\n",
       "            0.76744,     0.76744,     0.76744,     0.76744,     0.76744,     0.76744,     0.76744,     0.76744,     0.76744,     0.76744,     0.76744,     0.76744,     0.76744,     0.76744,     0.76744,     0.76744,     0.76744,     0.76744,     0.76744,     0.76744,     0.76744,     0.76744,     0.76744,\n",
       "            0.74444,     0.74444,     0.74444,     0.74444,     0.74444,     0.74444,     0.74444,     0.74444,     0.74444,     0.74444,     0.74444,     0.74444,     0.73118,     0.73118,     0.73118,     0.73118,     0.73118,     0.73118,     0.73118,     0.73118,     0.73118,     0.73118,     0.73118,\n",
       "            0.73118,     0.72632,     0.72632,     0.72632,     0.72632,     0.72632,     0.72632,     0.72632,     0.72632,     0.72632,     0.72632,     0.72632,     0.72632,     0.70707,     0.70707,     0.70707,     0.70707,     0.70707,     0.70707,     0.70707,     0.70707,     0.70707,     0.70707,\n",
       "            0.70707,     0.70707,     0.68571,     0.68571,     0.68571,     0.68571,     0.68571,     0.68571,     0.68571,     0.68571,     0.68571,     0.68571,     0.68571,     0.68571,     0.68571,     0.68571,     0.68571,     0.68571,     0.68571,     0.68571,     0.68571,     0.68571,     0.68571,\n",
       "            0.68571,     0.68571,     0.68571,     0.68571,     0.67593,     0.67593,     0.67593,     0.67593,     0.67593,     0.67593,     0.67593,     0.67593,     0.67593,     0.67593,     0.67593,     0.67593,     0.63793,     0.63793,     0.63793,     0.63793,     0.63793,     0.63793,     0.63793,\n",
       "            0.63793,     0.63793,     0.63793,     0.63793,     0.63793,     0.63559,     0.63559,     0.63559,     0.63559,     0.63559,     0.63559,     0.63559,     0.63559,     0.63559,     0.63559,     0.63559,     0.63559,      0.6281,      0.6281,      0.6281,      0.6281,      0.6281,      0.6281,\n",
       "             0.6281,      0.6281,      0.6281,      0.6281,      0.6281,      0.6281,     0.55797,     0.55797,     0.55797,     0.55797,     0.55797,     0.55797,     0.55797,     0.55797,     0.55797,     0.55797,     0.55797,     0.55797,     0.55797,      0.5493,      0.5493,      0.5493,      0.5493,\n",
       "             0.5493,      0.5493,      0.5493,      0.5493,      0.5493,      0.5493,      0.5493,      0.5493,     0.54483,     0.54483,     0.54483,     0.54483,     0.54483,     0.54483,     0.54483,     0.54483,     0.54483,     0.54483,     0.54483,     0.54483,     0.52288,     0.52288,     0.52288,\n",
       "            0.52288,     0.52288,     0.52288,     0.52288,     0.52288,     0.52288,     0.52288,     0.52288,     0.52288,      0.3189,      0.3189,      0.3189,      0.3189,      0.3189,      0.3189,      0.3189,      0.3189,      0.3189,      0.3189,      0.3189,      0.3189,     0.31298,     0.31298,\n",
       "            0.31298,     0.31298,     0.31298,     0.31298,     0.31298,     0.31298,     0.31298,     0.31298,     0.31298,     0.31298,           0]]), 'Recall', 'Precision'], [array([          0,    0.001001,    0.002002,    0.003003,    0.004004,    0.005005,    0.006006,    0.007007,    0.008008,    0.009009,     0.01001,    0.011011,    0.012012,    0.013013,    0.014014,    0.015015,    0.016016,    0.017017,    0.018018,    0.019019,     0.02002,    0.021021,    0.022022,    0.023023,\n",
       "          0.024024,    0.025025,    0.026026,    0.027027,    0.028028,    0.029029,     0.03003,    0.031031,    0.032032,    0.033033,    0.034034,    0.035035,    0.036036,    0.037037,    0.038038,    0.039039,     0.04004,    0.041041,    0.042042,    0.043043,    0.044044,    0.045045,    0.046046,    0.047047,\n",
       "          0.048048,    0.049049,     0.05005,    0.051051,    0.052052,    0.053053,    0.054054,    0.055055,    0.056056,    0.057057,    0.058058,    0.059059,     0.06006,    0.061061,    0.062062,    0.063063,    0.064064,    0.065065,    0.066066,    0.067067,    0.068068,    0.069069,     0.07007,    0.071071,\n",
       "          0.072072,    0.073073,    0.074074,    0.075075,    0.076076,    0.077077,    0.078078,    0.079079,     0.08008,    0.081081,    0.082082,    0.083083,    0.084084,    0.085085,    0.086086,    0.087087,    0.088088,    0.089089,     0.09009,    0.091091,    0.092092,    0.093093,    0.094094,    0.095095,\n",
       "          0.096096,    0.097097,    0.098098,    0.099099,      0.1001,      0.1011,      0.1021,      0.1031,      0.1041,     0.10511,     0.10611,     0.10711,     0.10811,     0.10911,     0.11011,     0.11111,     0.11211,     0.11311,     0.11411,     0.11512,     0.11612,     0.11712,     0.11812,     0.11912,\n",
       "           0.12012,     0.12112,     0.12212,     0.12312,     0.12412,     0.12513,     0.12613,     0.12713,     0.12813,     0.12913,     0.13013,     0.13113,     0.13213,     0.13313,     0.13413,     0.13514,     0.13614,     0.13714,     0.13814,     0.13914,     0.14014,     0.14114,     0.14214,     0.14314,\n",
       "           0.14414,     0.14515,     0.14615,     0.14715,     0.14815,     0.14915,     0.15015,     0.15115,     0.15215,     0.15315,     0.15415,     0.15516,     0.15616,     0.15716,     0.15816,     0.15916,     0.16016,     0.16116,     0.16216,     0.16316,     0.16416,     0.16517,     0.16617,     0.16717,\n",
       "           0.16817,     0.16917,     0.17017,     0.17117,     0.17217,     0.17317,     0.17417,     0.17518,     0.17618,     0.17718,     0.17818,     0.17918,     0.18018,     0.18118,     0.18218,     0.18318,     0.18418,     0.18519,     0.18619,     0.18719,     0.18819,     0.18919,     0.19019,     0.19119,\n",
       "           0.19219,     0.19319,     0.19419,      0.1952,      0.1962,      0.1972,      0.1982,      0.1992,      0.2002,      0.2012,      0.2022,      0.2032,      0.2042,     0.20521,     0.20621,     0.20721,     0.20821,     0.20921,     0.21021,     0.21121,     0.21221,     0.21321,     0.21421,     0.21522,\n",
       "           0.21622,     0.21722,     0.21822,     0.21922,     0.22022,     0.22122,     0.22222,     0.22322,     0.22422,     0.22523,     0.22623,     0.22723,     0.22823,     0.22923,     0.23023,     0.23123,     0.23223,     0.23323,     0.23423,     0.23524,     0.23624,     0.23724,     0.23824,     0.23924,\n",
       "           0.24024,     0.24124,     0.24224,     0.24324,     0.24424,     0.24525,     0.24625,     0.24725,     0.24825,     0.24925,     0.25025,     0.25125,     0.25225,     0.25325,     0.25425,     0.25526,     0.25626,     0.25726,     0.25826,     0.25926,     0.26026,     0.26126,     0.26226,     0.26326,\n",
       "           0.26426,     0.26527,     0.26627,     0.26727,     0.26827,     0.26927,     0.27027,     0.27127,     0.27227,     0.27327,     0.27427,     0.27528,     0.27628,     0.27728,     0.27828,     0.27928,     0.28028,     0.28128,     0.28228,     0.28328,     0.28428,     0.28529,     0.28629,     0.28729,\n",
       "           0.28829,     0.28929,     0.29029,     0.29129,     0.29229,     0.29329,     0.29429,      0.2953,      0.2963,      0.2973,      0.2983,      0.2993,      0.3003,      0.3013,      0.3023,      0.3033,      0.3043,     0.30531,     0.30631,     0.30731,     0.30831,     0.30931,     0.31031,     0.31131,\n",
       "           0.31231,     0.31331,     0.31431,     0.31532,     0.31632,     0.31732,     0.31832,     0.31932,     0.32032,     0.32132,     0.32232,     0.32332,     0.32432,     0.32533,     0.32633,     0.32733,     0.32833,     0.32933,     0.33033,     0.33133,     0.33233,     0.33333,     0.33433,     0.33534,\n",
       "           0.33634,     0.33734,     0.33834,     0.33934,     0.34034,     0.34134,     0.34234,     0.34334,     0.34434,     0.34535,     0.34635,     0.34735,     0.34835,     0.34935,     0.35035,     0.35135,     0.35235,     0.35335,     0.35435,     0.35536,     0.35636,     0.35736,     0.35836,     0.35936,\n",
       "           0.36036,     0.36136,     0.36236,     0.36336,     0.36436,     0.36537,     0.36637,     0.36737,     0.36837,     0.36937,     0.37037,     0.37137,     0.37237,     0.37337,     0.37437,     0.37538,     0.37638,     0.37738,     0.37838,     0.37938,     0.38038,     0.38138,     0.38238,     0.38338,\n",
       "           0.38438,     0.38539,     0.38639,     0.38739,     0.38839,     0.38939,     0.39039,     0.39139,     0.39239,     0.39339,     0.39439,      0.3954,      0.3964,      0.3974,      0.3984,      0.3994,      0.4004,      0.4014,      0.4024,      0.4034,      0.4044,     0.40541,     0.40641,     0.40741,\n",
       "           0.40841,     0.40941,     0.41041,     0.41141,     0.41241,     0.41341,     0.41441,     0.41542,     0.41642,     0.41742,     0.41842,     0.41942,     0.42042,     0.42142,     0.42242,     0.42342,     0.42442,     0.42543,     0.42643,     0.42743,     0.42843,     0.42943,     0.43043,     0.43143,\n",
       "           0.43243,     0.43343,     0.43443,     0.43544,     0.43644,     0.43744,     0.43844,     0.43944,     0.44044,     0.44144,     0.44244,     0.44344,     0.44444,     0.44545,     0.44645,     0.44745,     0.44845,     0.44945,     0.45045,     0.45145,     0.45245,     0.45345,     0.45445,     0.45546,\n",
       "           0.45646,     0.45746,     0.45846,     0.45946,     0.46046,     0.46146,     0.46246,     0.46346,     0.46446,     0.46547,     0.46647,     0.46747,     0.46847,     0.46947,     0.47047,     0.47147,     0.47247,     0.47347,     0.47447,     0.47548,     0.47648,     0.47748,     0.47848,     0.47948,\n",
       "           0.48048,     0.48148,     0.48248,     0.48348,     0.48448,     0.48549,     0.48649,     0.48749,     0.48849,     0.48949,     0.49049,     0.49149,     0.49249,     0.49349,     0.49449,      0.4955,      0.4965,      0.4975,      0.4985,      0.4995,      0.5005,      0.5015,      0.5025,      0.5035,\n",
       "            0.5045,     0.50551,     0.50651,     0.50751,     0.50851,     0.50951,     0.51051,     0.51151,     0.51251,     0.51351,     0.51451,     0.51552,     0.51652,     0.51752,     0.51852,     0.51952,     0.52052,     0.52152,     0.52252,     0.52352,     0.52452,     0.52553,     0.52653,     0.52753,\n",
       "           0.52853,     0.52953,     0.53053,     0.53153,     0.53253,     0.53353,     0.53453,     0.53554,     0.53654,     0.53754,     0.53854,     0.53954,     0.54054,     0.54154,     0.54254,     0.54354,     0.54454,     0.54555,     0.54655,     0.54755,     0.54855,     0.54955,     0.55055,     0.55155,\n",
       "           0.55255,     0.55355,     0.55455,     0.55556,     0.55656,     0.55756,     0.55856,     0.55956,     0.56056,     0.56156,     0.56256,     0.56356,     0.56456,     0.56557,     0.56657,     0.56757,     0.56857,     0.56957,     0.57057,     0.57157,     0.57257,     0.57357,     0.57457,     0.57558,\n",
       "           0.57658,     0.57758,     0.57858,     0.57958,     0.58058,     0.58158,     0.58258,     0.58358,     0.58458,     0.58559,     0.58659,     0.58759,     0.58859,     0.58959,     0.59059,     0.59159,     0.59259,     0.59359,     0.59459,      0.5956,      0.5966,      0.5976,      0.5986,      0.5996,\n",
       "            0.6006,      0.6016,      0.6026,      0.6036,      0.6046,     0.60561,     0.60661,     0.60761,     0.60861,     0.60961,     0.61061,     0.61161,     0.61261,     0.61361,     0.61461,     0.61562,     0.61662,     0.61762,     0.61862,     0.61962,     0.62062,     0.62162,     0.62262,     0.62362,\n",
       "           0.62462,     0.62563,     0.62663,     0.62763,     0.62863,     0.62963,     0.63063,     0.63163,     0.63263,     0.63363,     0.63463,     0.63564,     0.63664,     0.63764,     0.63864,     0.63964,     0.64064,     0.64164,     0.64264,     0.64364,     0.64464,     0.64565,     0.64665,     0.64765,\n",
       "           0.64865,     0.64965,     0.65065,     0.65165,     0.65265,     0.65365,     0.65465,     0.65566,     0.65666,     0.65766,     0.65866,     0.65966,     0.66066,     0.66166,     0.66266,     0.66366,     0.66466,     0.66567,     0.66667,     0.66767,     0.66867,     0.66967,     0.67067,     0.67167,\n",
       "           0.67267,     0.67367,     0.67467,     0.67568,     0.67668,     0.67768,     0.67868,     0.67968,     0.68068,     0.68168,     0.68268,     0.68368,     0.68468,     0.68569,     0.68669,     0.68769,     0.68869,     0.68969,     0.69069,     0.69169,     0.69269,     0.69369,     0.69469,      0.6957,\n",
       "            0.6967,      0.6977,      0.6987,      0.6997,      0.7007,      0.7017,      0.7027,      0.7037,      0.7047,     0.70571,     0.70671,     0.70771,     0.70871,     0.70971,     0.71071,     0.71171,     0.71271,     0.71371,     0.71471,     0.71572,     0.71672,     0.71772,     0.71872,     0.71972,\n",
       "           0.72072,     0.72172,     0.72272,     0.72372,     0.72472,     0.72573,     0.72673,     0.72773,     0.72873,     0.72973,     0.73073,     0.73173,     0.73273,     0.73373,     0.73473,     0.73574,     0.73674,     0.73774,     0.73874,     0.73974,     0.74074,     0.74174,     0.74274,     0.74374,\n",
       "           0.74474,     0.74575,     0.74675,     0.74775,     0.74875,     0.74975,     0.75075,     0.75175,     0.75275,     0.75375,     0.75475,     0.75576,     0.75676,     0.75776,     0.75876,     0.75976,     0.76076,     0.76176,     0.76276,     0.76376,     0.76476,     0.76577,     0.76677,     0.76777,\n",
       "           0.76877,     0.76977,     0.77077,     0.77177,     0.77277,     0.77377,     0.77477,     0.77578,     0.77678,     0.77778,     0.77878,     0.77978,     0.78078,     0.78178,     0.78278,     0.78378,     0.78478,     0.78579,     0.78679,     0.78779,     0.78879,     0.78979,     0.79079,     0.79179,\n",
       "           0.79279,     0.79379,     0.79479,      0.7958,      0.7968,      0.7978,      0.7988,      0.7998,      0.8008,      0.8018,      0.8028,      0.8038,      0.8048,     0.80581,     0.80681,     0.80781,     0.80881,     0.80981,     0.81081,     0.81181,     0.81281,     0.81381,     0.81481,     0.81582,\n",
       "           0.81682,     0.81782,     0.81882,     0.81982,     0.82082,     0.82182,     0.82282,     0.82382,     0.82482,     0.82583,     0.82683,     0.82783,     0.82883,     0.82983,     0.83083,     0.83183,     0.83283,     0.83383,     0.83483,     0.83584,     0.83684,     0.83784,     0.83884,     0.83984,\n",
       "           0.84084,     0.84184,     0.84284,     0.84384,     0.84484,     0.84585,     0.84685,     0.84785,     0.84885,     0.84985,     0.85085,     0.85185,     0.85285,     0.85385,     0.85485,     0.85586,     0.85686,     0.85786,     0.85886,     0.85986,     0.86086,     0.86186,     0.86286,     0.86386,\n",
       "           0.86486,     0.86587,     0.86687,     0.86787,     0.86887,     0.86987,     0.87087,     0.87187,     0.87287,     0.87387,     0.87487,     0.87588,     0.87688,     0.87788,     0.87888,     0.87988,     0.88088,     0.88188,     0.88288,     0.88388,     0.88488,     0.88589,     0.88689,     0.88789,\n",
       "           0.88889,     0.88989,     0.89089,     0.89189,     0.89289,     0.89389,     0.89489,      0.8959,      0.8969,      0.8979,      0.8989,      0.8999,      0.9009,      0.9019,      0.9029,      0.9039,      0.9049,     0.90591,     0.90691,     0.90791,     0.90891,     0.90991,     0.91091,     0.91191,\n",
       "           0.91291,     0.91391,     0.91491,     0.91592,     0.91692,     0.91792,     0.91892,     0.91992,     0.92092,     0.92192,     0.92292,     0.92392,     0.92492,     0.92593,     0.92693,     0.92793,     0.92893,     0.92993,     0.93093,     0.93193,     0.93293,     0.93393,     0.93493,     0.93594,\n",
       "           0.93694,     0.93794,     0.93894,     0.93994,     0.94094,     0.94194,     0.94294,     0.94394,     0.94494,     0.94595,     0.94695,     0.94795,     0.94895,     0.94995,     0.95095,     0.95195,     0.95295,     0.95395,     0.95495,     0.95596,     0.95696,     0.95796,     0.95896,     0.95996,\n",
       "           0.96096,     0.96196,     0.96296,     0.96396,     0.96496,     0.96597,     0.96697,     0.96797,     0.96897,     0.96997,     0.97097,     0.97197,     0.97297,     0.97397,     0.97497,     0.97598,     0.97698,     0.97798,     0.97898,     0.97998,     0.98098,     0.98198,     0.98298,     0.98398,\n",
       "           0.98498,     0.98599,     0.98699,     0.98799,     0.98899,     0.98999,     0.99099,     0.99199,     0.99299,     0.99399,     0.99499,       0.996,       0.997,       0.998,       0.999,           1]), array([[  0.0072934,   0.0072936,    0.012847,    0.019203,    0.020742,    0.033539,     0.18545,     0.33073,      0.3734,     0.40229,     0.43626,     0.45313,     0.47191,     0.48059,      0.4845,     0.50218,     0.51193,     0.51925,     0.52916,     0.53636,     0.54349,     0.54537,     0.54906,\n",
       "            0.55745,     0.56526,     0.57089,     0.57727,     0.58244,     0.59199,     0.59684,     0.60139,     0.60388,      0.6088,     0.61182,     0.62164,     0.62475,     0.62965,     0.64188,     0.64452,     0.64807,      0.6486,     0.64914,     0.64967,      0.6502,     0.65292,     0.65396,\n",
       "            0.65489,      0.6561,      0.6606,     0.66393,     0.66463,     0.66533,     0.66603,     0.66773,     0.67153,      0.6783,     0.67943,     0.68055,     0.67774,     0.68074,     0.68253,     0.68458,     0.68778,     0.68948,     0.69026,     0.69068,      0.6911,     0.69151,     0.69193,\n",
       "            0.69235,     0.69277,     0.69356,     0.69472,     0.69589,     0.69086,     0.69166,     0.69245,     0.69324,     0.69502,     0.69524,     0.69074,     0.69361,     0.69564,     0.69851,     0.69426,     0.69476,     0.69526,     0.69576,     0.69627,     0.69677,     0.69764,     0.70468,\n",
       "            0.70694,      0.7082,     0.70944,     0.71082,     0.71249,     0.71466,     0.71787,     0.72094,     0.72383,     0.72765,     0.73668,     0.74032,     0.74306,     0.74534,     0.74655,     0.74775,     0.74799,     0.74298,     0.74695,     0.74877,     0.74595,     0.74586,      0.7447,\n",
       "            0.74139,     0.74209,     0.74315,      0.7442,     0.74536,     0.74671,     0.74806,      0.7545,     0.75705,     0.75806,     0.75907,     0.76008,     0.76118,     0.76234,     0.76349,     0.76449,     0.76493,     0.76538,     0.76582,     0.76626,     0.76671,     0.76715,     0.76759,\n",
       "            0.76803,     0.76834,     0.76761,     0.76687,     0.76614,     0.76541,     0.76468,     0.76395,     0.76321,     0.76248,     0.76207,     0.76284,      0.7636,     0.76437,     0.76513,     0.76589,     0.76639,     0.76685,     0.76732,     0.76779,     0.76826,     0.76872,     0.76919,\n",
       "            0.76966,     0.76926,     0.76395,     0.76043,     0.75709,     0.75819,     0.75978,     0.76232,     0.76536,     0.76618,       0.767,     0.76781,     0.76863,     0.77334,     0.77252,      0.7717,     0.77088,     0.77006,     0.76924,     0.76842,     0.76759,     0.76677,     0.76819,\n",
       "            0.76992,     0.77138,     0.77244,     0.77349,     0.77455,     0.77541,     0.77584,     0.77627,      0.7767,     0.77712,     0.77755,     0.77798,      0.7784,     0.77883,     0.77926,     0.77955,     0.77725,     0.77494,     0.77276,     0.77354,     0.77432,      0.7751,     0.77587,\n",
       "            0.77665,     0.77707,     0.77686,     0.77665,     0.77645,     0.77624,     0.77604,     0.77583,     0.77562,     0.77542,     0.77521,       0.775,      0.7748,     0.77459,     0.77438,     0.77417,     0.77397,     0.77376,     0.77355,     0.77335,     0.77314,     0.77293,     0.77272,\n",
       "            0.77252,     0.77231,      0.7721,      0.7719,     0.77169,     0.77148,     0.77127,     0.77107,     0.77086,     0.77065,     0.77044,     0.77024,     0.77028,     0.77066,     0.77104,     0.77142,      0.7718,     0.77218,     0.77256,     0.77293,     0.77331,     0.77369,     0.77407,\n",
       "            0.77445,     0.77511,      0.7759,      0.7767,     0.77749,     0.77828,     0.77907,     0.77209,     0.77281,     0.77353,     0.77425,     0.77497,     0.77568,      0.7764,     0.78126,     0.78154,     0.78182,     0.78211,     0.78239,     0.78267,     0.78295,     0.78323,     0.78351,\n",
       "            0.78379,     0.78407,     0.78435,     0.78463,     0.78491,     0.78518,     0.78546,     0.78563,      0.7848,     0.78398,     0.78315,     0.78232,     0.78149,     0.78066,     0.77982,     0.77899,     0.77831,     0.77793,     0.77755,     0.77717,     0.77679,     0.77641,     0.77603,\n",
       "            0.77565,     0.77527,     0.77488,      0.7745,     0.77412,     0.77374,     0.77336,     0.77297,     0.77259,     0.77221,     0.77183,     0.77144,     0.77115,     0.77221,     0.77327,     0.77432,     0.77538,       0.777,     0.77894,     0.78033,     0.77954,     0.77875,     0.77796,\n",
       "            0.77716,     0.77637,     0.77558,     0.77478,     0.77399,     0.77319,     0.77539,     0.77916,     0.78143,     0.77869,     0.77595,     0.77511,     0.77528,     0.77545,     0.77561,     0.77578,     0.77595,     0.77612,     0.77629,     0.77645,     0.77662,     0.77679,     0.77695,\n",
       "            0.77712,     0.77729,     0.77746,     0.77762,     0.77779,     0.77796,     0.77812,     0.77829,     0.77846,     0.77862,     0.77879,     0.77896,     0.77912,     0.77929,     0.77946,     0.77962,     0.77979,     0.78025,     0.78103,     0.78181,     0.78259,     0.78337,     0.78414,\n",
       "            0.78474,     0.78426,     0.78378,      0.7833,     0.78282,     0.78234,     0.78186,     0.78138,      0.7809,     0.78042,     0.77994,     0.77945,     0.77897,     0.77849,     0.77801,     0.77752,       0.777,     0.77588,     0.77477,     0.77365,     0.77253,     0.77141,     0.77029,\n",
       "            0.76939,     0.77234,     0.77398,     0.77341,     0.77283,     0.77226,     0.77168,     0.77111,     0.77053,     0.76996,     0.76938,      0.7688,     0.76822,     0.76765,     0.76707,     0.76649,     0.77023,     0.77225,     0.77342,     0.77459,     0.77575,     0.77617,     0.77587,\n",
       "            0.77558,     0.77529,       0.775,     0.77471,     0.77441,     0.77412,     0.77383,     0.77354,     0.77324,     0.77295,     0.77266,     0.77236,     0.77207,     0.77178,     0.77148,     0.77119,      0.7709,      0.7706,     0.77031,     0.77002,     0.76972,     0.76943,     0.76913,\n",
       "            0.76884,     0.76854,     0.76825,     0.76858,     0.76899,     0.76941,     0.76982,     0.77024,     0.77065,     0.77106,     0.77148,     0.77189,      0.7723,     0.77271,     0.77312,     0.77291,     0.77202,     0.77114,     0.77025,     0.76936,     0.76847,     0.76758,     0.76669,\n",
       "             0.7658,     0.76514,     0.76533,     0.76553,     0.76572,     0.76591,      0.7661,      0.7663,     0.76649,     0.76668,     0.76687,     0.76706,     0.76725,     0.76744,     0.76764,     0.76783,     0.76802,     0.76821,      0.7684,     0.76859,     0.76878,     0.76897,     0.76916,\n",
       "            0.76935,     0.76954,     0.76973,     0.76992,     0.77011,     0.77021,     0.76982,     0.76943,     0.76904,     0.76865,     0.76826,     0.76787,     0.76747,     0.76708,     0.76669,      0.7663,      0.7659,     0.76551,     0.76512,     0.76473,     0.76433,     0.76394,     0.76354,\n",
       "            0.76315,     0.76276,     0.76236,     0.76197,     0.76117,     0.76029,     0.75941,     0.75853,     0.75765,     0.75677,     0.75589,     0.75501,     0.75412,     0.75316,     0.75193,     0.75069,     0.74945,      0.7482,     0.74696,     0.74571,     0.74378,     0.74017,     0.73655,\n",
       "             0.7363,     0.73651,     0.73672,     0.73694,     0.73715,     0.73736,     0.73757,     0.73778,     0.73799,     0.73821,     0.73842,     0.73863,     0.73884,     0.73905,     0.73926,     0.73947,     0.73968,     0.73989,      0.7401,     0.74031,     0.74052,     0.74073,     0.74094,\n",
       "            0.74115,     0.74092,     0.74017,     0.73942,     0.73867,     0.73792,     0.73717,     0.73642,     0.73566,     0.73491,     0.73416,      0.7334,     0.73265,       0.732,      0.7314,      0.7308,      0.7302,     0.72959,     0.72899,     0.72839,     0.72779,     0.72718,     0.72658,\n",
       "            0.72598,     0.72537,     0.72477,     0.72416,     0.72355,     0.72312,     0.72275,     0.72238,     0.72201,     0.72163,     0.72126,     0.72089,     0.72052,     0.72014,     0.71977,      0.7194,     0.71902,     0.71865,     0.71827,      0.7179,     0.71752,     0.71715,     0.71677,\n",
       "             0.7164,     0.71602,     0.71565,     0.71527,      0.7149,     0.71452,     0.71435,     0.71454,     0.71472,      0.7149,     0.71508,     0.71526,     0.71544,     0.71562,     0.71581,     0.71599,     0.71617,     0.71635,     0.71653,     0.71671,     0.71689,     0.71707,     0.71725,\n",
       "            0.71743,     0.71761,     0.71779,     0.71797,     0.71815,     0.71833,     0.71851,     0.71868,     0.71886,     0.71904,     0.71922,      0.7194,     0.71818,     0.71671,     0.71525,     0.71378,     0.71231,     0.71084,      0.7097,     0.70887,     0.70803,     0.70719,     0.70635,\n",
       "            0.70551,     0.70467,     0.70383,     0.70299,     0.70215,      0.7013,      0.7005,      0.6998,      0.6991,      0.6984,      0.6977,       0.697,      0.6963,     0.69559,     0.69489,     0.69418,     0.69348,     0.69277,     0.69207,     0.69136,     0.68998,     0.68837,     0.68676,\n",
       "            0.68514,     0.68352,      0.6819,     0.68062,     0.67946,      0.6783,     0.67714,     0.67597,      0.6748,     0.67364,     0.67247,     0.67118,      0.6696,     0.66802,     0.66644,     0.66485,     0.66327,     0.66168,     0.66083,        0.66,     0.65917,     0.65833,      0.6575,\n",
       "            0.65666,     0.65583,     0.65499,     0.65415,     0.65331,     0.65247,     0.65163,     0.64247,     0.64392,     0.64536,     0.64577,      0.6449,     0.64404,     0.64317,     0.64231,     0.64144,     0.64057,      0.6397,     0.63883,     0.63796,     0.63708,     0.63621,     0.63572,\n",
       "            0.63588,     0.63604,     0.63619,     0.63635,     0.63651,     0.63667,     0.63683,     0.63699,     0.63715,      0.6373,     0.63746,     0.63762,     0.63778,     0.63793,     0.63809,     0.63825,     0.63841,     0.63856,     0.63872,     0.63888,     0.63903,     0.63919,     0.63934,\n",
       "             0.6395,     0.63966,     0.63981,     0.63997,     0.64012,     0.64028,     0.64043,     0.64059,     0.62949,     0.62866,     0.62784,     0.62701,     0.62619,     0.62536,     0.62453,      0.6237,     0.62287,     0.62204,     0.62121,     0.62037,     0.61954,     0.61865,     0.61767,\n",
       "            0.61669,     0.61571,     0.61473,     0.61375,     0.61277,     0.61178,      0.6108,     0.60981,     0.60883,     0.59673,     0.59463,     0.59253,     0.59042,      0.5883,     0.58618,     0.58116,     0.57427,     0.56454,     0.56121,     0.56016,     0.55912,     0.55807,     0.55702,\n",
       "            0.55597,     0.55492,     0.55387,     0.55282,     0.55176,     0.55071,      0.5488,     0.54514,     0.54146,     0.53782,     0.53822,     0.53862,     0.53901,     0.53941,      0.5398,     0.54019,     0.54059,     0.54098,     0.54136,     0.54175,     0.54214,     0.53977,      0.5331,\n",
       "            0.53437,     0.53195,     0.52953,     0.52711,     0.52467,     0.52223,     0.51771,     0.51264,     0.50744,     0.50186,     0.49624,     0.49221,     0.48837,     0.48452,     0.47918,     0.47143,     0.45393,      0.4489,     0.44384,     0.42837,     0.41906,     0.41167,     0.41392,\n",
       "            0.41175,     0.40958,      0.4074,     0.40521,     0.40302,     0.40083,     0.39948,     0.39863,     0.39779,     0.39695,      0.3961,     0.39526,     0.39441,     0.39356,     0.39272,     0.39187,     0.39102,     0.39017,     0.38932,     0.38847,     0.38761,     0.38676,     0.38591,\n",
       "            0.38505,     0.38177,     0.37592,     0.37004,     0.36925,     0.36963,     0.37001,     0.37039,     0.37077,     0.37114,     0.37151,     0.37187,     0.37224,     0.37233,     0.37071,     0.36908,     0.36745,     0.36581,     0.36417,     0.36253,     0.36089,     0.35924,     0.35759,\n",
       "            0.35539,     0.35191,     0.34841,     0.34491,     0.34138,     0.33736,       0.333,     0.32862,     0.32421,     0.32117,     0.31851,     0.31584,     0.31317,     0.31048,     0.30779,     0.29565,     0.28549,     0.28123,     0.27695,     0.27265,     0.27094,     0.27114,     0.27132,\n",
       "            0.27151,      0.2717,     0.27188,     0.27207,     0.27225,     0.27243,     0.27261,     0.27278,     0.27296,     0.27313,     0.27331,     0.27348,     0.27365,     0.25312,     0.25037,      0.2476,     0.24483,     0.24205,     0.23925,     0.23624,     0.22767,       0.219,     0.21526,\n",
       "            0.21263,        0.21,     0.20736,     0.20471,     0.20205,     0.19939,     0.19086,     0.15727,     0.15441,     0.15155,     0.14867,     0.14579,     0.14289,     0.13999,     0.13708,     0.13133,     0.12463,     0.11787,     0.11324,     0.11023,     0.10722,      0.1042,     0.10116,\n",
       "           0.098122,    0.095069,    0.092254,    0.089931,    0.087602,    0.085267,    0.082927,    0.080581,    0.078229,    0.075872,    0.073508,    0.071139,    0.060376,    0.047498,    0.045181,    0.042858,     0.04053,    0.038196,    0.035856,    0.033511,     0.03116,    0.028804,    0.026442,\n",
       "                  0,           0,           0,           0,           0,           0,           0,           0,           0,           0,           0,           0,           0,           0,           0,           0,           0,           0,           0,           0,           0,           0,           0,\n",
       "                  0,           0,           0,           0,           0,           0,           0,           0,           0,           0,           0]]), 'Confidence', 'F1'], [array([          0,    0.001001,    0.002002,    0.003003,    0.004004,    0.005005,    0.006006,    0.007007,    0.008008,    0.009009,     0.01001,    0.011011,    0.012012,    0.013013,    0.014014,    0.015015,    0.016016,    0.017017,    0.018018,    0.019019,     0.02002,    0.021021,    0.022022,    0.023023,\n",
       "          0.024024,    0.025025,    0.026026,    0.027027,    0.028028,    0.029029,     0.03003,    0.031031,    0.032032,    0.033033,    0.034034,    0.035035,    0.036036,    0.037037,    0.038038,    0.039039,     0.04004,    0.041041,    0.042042,    0.043043,    0.044044,    0.045045,    0.046046,    0.047047,\n",
       "          0.048048,    0.049049,     0.05005,    0.051051,    0.052052,    0.053053,    0.054054,    0.055055,    0.056056,    0.057057,    0.058058,    0.059059,     0.06006,    0.061061,    0.062062,    0.063063,    0.064064,    0.065065,    0.066066,    0.067067,    0.068068,    0.069069,     0.07007,    0.071071,\n",
       "          0.072072,    0.073073,    0.074074,    0.075075,    0.076076,    0.077077,    0.078078,    0.079079,     0.08008,    0.081081,    0.082082,    0.083083,    0.084084,    0.085085,    0.086086,    0.087087,    0.088088,    0.089089,     0.09009,    0.091091,    0.092092,    0.093093,    0.094094,    0.095095,\n",
       "          0.096096,    0.097097,    0.098098,    0.099099,      0.1001,      0.1011,      0.1021,      0.1031,      0.1041,     0.10511,     0.10611,     0.10711,     0.10811,     0.10911,     0.11011,     0.11111,     0.11211,     0.11311,     0.11411,     0.11512,     0.11612,     0.11712,     0.11812,     0.11912,\n",
       "           0.12012,     0.12112,     0.12212,     0.12312,     0.12412,     0.12513,     0.12613,     0.12713,     0.12813,     0.12913,     0.13013,     0.13113,     0.13213,     0.13313,     0.13413,     0.13514,     0.13614,     0.13714,     0.13814,     0.13914,     0.14014,     0.14114,     0.14214,     0.14314,\n",
       "           0.14414,     0.14515,     0.14615,     0.14715,     0.14815,     0.14915,     0.15015,     0.15115,     0.15215,     0.15315,     0.15415,     0.15516,     0.15616,     0.15716,     0.15816,     0.15916,     0.16016,     0.16116,     0.16216,     0.16316,     0.16416,     0.16517,     0.16617,     0.16717,\n",
       "           0.16817,     0.16917,     0.17017,     0.17117,     0.17217,     0.17317,     0.17417,     0.17518,     0.17618,     0.17718,     0.17818,     0.17918,     0.18018,     0.18118,     0.18218,     0.18318,     0.18418,     0.18519,     0.18619,     0.18719,     0.18819,     0.18919,     0.19019,     0.19119,\n",
       "           0.19219,     0.19319,     0.19419,      0.1952,      0.1962,      0.1972,      0.1982,      0.1992,      0.2002,      0.2012,      0.2022,      0.2032,      0.2042,     0.20521,     0.20621,     0.20721,     0.20821,     0.20921,     0.21021,     0.21121,     0.21221,     0.21321,     0.21421,     0.21522,\n",
       "           0.21622,     0.21722,     0.21822,     0.21922,     0.22022,     0.22122,     0.22222,     0.22322,     0.22422,     0.22523,     0.22623,     0.22723,     0.22823,     0.22923,     0.23023,     0.23123,     0.23223,     0.23323,     0.23423,     0.23524,     0.23624,     0.23724,     0.23824,     0.23924,\n",
       "           0.24024,     0.24124,     0.24224,     0.24324,     0.24424,     0.24525,     0.24625,     0.24725,     0.24825,     0.24925,     0.25025,     0.25125,     0.25225,     0.25325,     0.25425,     0.25526,     0.25626,     0.25726,     0.25826,     0.25926,     0.26026,     0.26126,     0.26226,     0.26326,\n",
       "           0.26426,     0.26527,     0.26627,     0.26727,     0.26827,     0.26927,     0.27027,     0.27127,     0.27227,     0.27327,     0.27427,     0.27528,     0.27628,     0.27728,     0.27828,     0.27928,     0.28028,     0.28128,     0.28228,     0.28328,     0.28428,     0.28529,     0.28629,     0.28729,\n",
       "           0.28829,     0.28929,     0.29029,     0.29129,     0.29229,     0.29329,     0.29429,      0.2953,      0.2963,      0.2973,      0.2983,      0.2993,      0.3003,      0.3013,      0.3023,      0.3033,      0.3043,     0.30531,     0.30631,     0.30731,     0.30831,     0.30931,     0.31031,     0.31131,\n",
       "           0.31231,     0.31331,     0.31431,     0.31532,     0.31632,     0.31732,     0.31832,     0.31932,     0.32032,     0.32132,     0.32232,     0.32332,     0.32432,     0.32533,     0.32633,     0.32733,     0.32833,     0.32933,     0.33033,     0.33133,     0.33233,     0.33333,     0.33433,     0.33534,\n",
       "           0.33634,     0.33734,     0.33834,     0.33934,     0.34034,     0.34134,     0.34234,     0.34334,     0.34434,     0.34535,     0.34635,     0.34735,     0.34835,     0.34935,     0.35035,     0.35135,     0.35235,     0.35335,     0.35435,     0.35536,     0.35636,     0.35736,     0.35836,     0.35936,\n",
       "           0.36036,     0.36136,     0.36236,     0.36336,     0.36436,     0.36537,     0.36637,     0.36737,     0.36837,     0.36937,     0.37037,     0.37137,     0.37237,     0.37337,     0.37437,     0.37538,     0.37638,     0.37738,     0.37838,     0.37938,     0.38038,     0.38138,     0.38238,     0.38338,\n",
       "           0.38438,     0.38539,     0.38639,     0.38739,     0.38839,     0.38939,     0.39039,     0.39139,     0.39239,     0.39339,     0.39439,      0.3954,      0.3964,      0.3974,      0.3984,      0.3994,      0.4004,      0.4014,      0.4024,      0.4034,      0.4044,     0.40541,     0.40641,     0.40741,\n",
       "           0.40841,     0.40941,     0.41041,     0.41141,     0.41241,     0.41341,     0.41441,     0.41542,     0.41642,     0.41742,     0.41842,     0.41942,     0.42042,     0.42142,     0.42242,     0.42342,     0.42442,     0.42543,     0.42643,     0.42743,     0.42843,     0.42943,     0.43043,     0.43143,\n",
       "           0.43243,     0.43343,     0.43443,     0.43544,     0.43644,     0.43744,     0.43844,     0.43944,     0.44044,     0.44144,     0.44244,     0.44344,     0.44444,     0.44545,     0.44645,     0.44745,     0.44845,     0.44945,     0.45045,     0.45145,     0.45245,     0.45345,     0.45445,     0.45546,\n",
       "           0.45646,     0.45746,     0.45846,     0.45946,     0.46046,     0.46146,     0.46246,     0.46346,     0.46446,     0.46547,     0.46647,     0.46747,     0.46847,     0.46947,     0.47047,     0.47147,     0.47247,     0.47347,     0.47447,     0.47548,     0.47648,     0.47748,     0.47848,     0.47948,\n",
       "           0.48048,     0.48148,     0.48248,     0.48348,     0.48448,     0.48549,     0.48649,     0.48749,     0.48849,     0.48949,     0.49049,     0.49149,     0.49249,     0.49349,     0.49449,      0.4955,      0.4965,      0.4975,      0.4985,      0.4995,      0.5005,      0.5015,      0.5025,      0.5035,\n",
       "            0.5045,     0.50551,     0.50651,     0.50751,     0.50851,     0.50951,     0.51051,     0.51151,     0.51251,     0.51351,     0.51451,     0.51552,     0.51652,     0.51752,     0.51852,     0.51952,     0.52052,     0.52152,     0.52252,     0.52352,     0.52452,     0.52553,     0.52653,     0.52753,\n",
       "           0.52853,     0.52953,     0.53053,     0.53153,     0.53253,     0.53353,     0.53453,     0.53554,     0.53654,     0.53754,     0.53854,     0.53954,     0.54054,     0.54154,     0.54254,     0.54354,     0.54454,     0.54555,     0.54655,     0.54755,     0.54855,     0.54955,     0.55055,     0.55155,\n",
       "           0.55255,     0.55355,     0.55455,     0.55556,     0.55656,     0.55756,     0.55856,     0.55956,     0.56056,     0.56156,     0.56256,     0.56356,     0.56456,     0.56557,     0.56657,     0.56757,     0.56857,     0.56957,     0.57057,     0.57157,     0.57257,     0.57357,     0.57457,     0.57558,\n",
       "           0.57658,     0.57758,     0.57858,     0.57958,     0.58058,     0.58158,     0.58258,     0.58358,     0.58458,     0.58559,     0.58659,     0.58759,     0.58859,     0.58959,     0.59059,     0.59159,     0.59259,     0.59359,     0.59459,      0.5956,      0.5966,      0.5976,      0.5986,      0.5996,\n",
       "            0.6006,      0.6016,      0.6026,      0.6036,      0.6046,     0.60561,     0.60661,     0.60761,     0.60861,     0.60961,     0.61061,     0.61161,     0.61261,     0.61361,     0.61461,     0.61562,     0.61662,     0.61762,     0.61862,     0.61962,     0.62062,     0.62162,     0.62262,     0.62362,\n",
       "           0.62462,     0.62563,     0.62663,     0.62763,     0.62863,     0.62963,     0.63063,     0.63163,     0.63263,     0.63363,     0.63463,     0.63564,     0.63664,     0.63764,     0.63864,     0.63964,     0.64064,     0.64164,     0.64264,     0.64364,     0.64464,     0.64565,     0.64665,     0.64765,\n",
       "           0.64865,     0.64965,     0.65065,     0.65165,     0.65265,     0.65365,     0.65465,     0.65566,     0.65666,     0.65766,     0.65866,     0.65966,     0.66066,     0.66166,     0.66266,     0.66366,     0.66466,     0.66567,     0.66667,     0.66767,     0.66867,     0.66967,     0.67067,     0.67167,\n",
       "           0.67267,     0.67367,     0.67467,     0.67568,     0.67668,     0.67768,     0.67868,     0.67968,     0.68068,     0.68168,     0.68268,     0.68368,     0.68468,     0.68569,     0.68669,     0.68769,     0.68869,     0.68969,     0.69069,     0.69169,     0.69269,     0.69369,     0.69469,      0.6957,\n",
       "            0.6967,      0.6977,      0.6987,      0.6997,      0.7007,      0.7017,      0.7027,      0.7037,      0.7047,     0.70571,     0.70671,     0.70771,     0.70871,     0.70971,     0.71071,     0.71171,     0.71271,     0.71371,     0.71471,     0.71572,     0.71672,     0.71772,     0.71872,     0.71972,\n",
       "           0.72072,     0.72172,     0.72272,     0.72372,     0.72472,     0.72573,     0.72673,     0.72773,     0.72873,     0.72973,     0.73073,     0.73173,     0.73273,     0.73373,     0.73473,     0.73574,     0.73674,     0.73774,     0.73874,     0.73974,     0.74074,     0.74174,     0.74274,     0.74374,\n",
       "           0.74474,     0.74575,     0.74675,     0.74775,     0.74875,     0.74975,     0.75075,     0.75175,     0.75275,     0.75375,     0.75475,     0.75576,     0.75676,     0.75776,     0.75876,     0.75976,     0.76076,     0.76176,     0.76276,     0.76376,     0.76476,     0.76577,     0.76677,     0.76777,\n",
       "           0.76877,     0.76977,     0.77077,     0.77177,     0.77277,     0.77377,     0.77477,     0.77578,     0.77678,     0.77778,     0.77878,     0.77978,     0.78078,     0.78178,     0.78278,     0.78378,     0.78478,     0.78579,     0.78679,     0.78779,     0.78879,     0.78979,     0.79079,     0.79179,\n",
       "           0.79279,     0.79379,     0.79479,      0.7958,      0.7968,      0.7978,      0.7988,      0.7998,      0.8008,      0.8018,      0.8028,      0.8038,      0.8048,     0.80581,     0.80681,     0.80781,     0.80881,     0.80981,     0.81081,     0.81181,     0.81281,     0.81381,     0.81481,     0.81582,\n",
       "           0.81682,     0.81782,     0.81882,     0.81982,     0.82082,     0.82182,     0.82282,     0.82382,     0.82482,     0.82583,     0.82683,     0.82783,     0.82883,     0.82983,     0.83083,     0.83183,     0.83283,     0.83383,     0.83483,     0.83584,     0.83684,     0.83784,     0.83884,     0.83984,\n",
       "           0.84084,     0.84184,     0.84284,     0.84384,     0.84484,     0.84585,     0.84685,     0.84785,     0.84885,     0.84985,     0.85085,     0.85185,     0.85285,     0.85385,     0.85485,     0.85586,     0.85686,     0.85786,     0.85886,     0.85986,     0.86086,     0.86186,     0.86286,     0.86386,\n",
       "           0.86486,     0.86587,     0.86687,     0.86787,     0.86887,     0.86987,     0.87087,     0.87187,     0.87287,     0.87387,     0.87487,     0.87588,     0.87688,     0.87788,     0.87888,     0.87988,     0.88088,     0.88188,     0.88288,     0.88388,     0.88488,     0.88589,     0.88689,     0.88789,\n",
       "           0.88889,     0.88989,     0.89089,     0.89189,     0.89289,     0.89389,     0.89489,      0.8959,      0.8969,      0.8979,      0.8989,      0.8999,      0.9009,      0.9019,      0.9029,      0.9039,      0.9049,     0.90591,     0.90691,     0.90791,     0.90891,     0.90991,     0.91091,     0.91191,\n",
       "           0.91291,     0.91391,     0.91491,     0.91592,     0.91692,     0.91792,     0.91892,     0.91992,     0.92092,     0.92192,     0.92292,     0.92392,     0.92492,     0.92593,     0.92693,     0.92793,     0.92893,     0.92993,     0.93093,     0.93193,     0.93293,     0.93393,     0.93493,     0.93594,\n",
       "           0.93694,     0.93794,     0.93894,     0.93994,     0.94094,     0.94194,     0.94294,     0.94394,     0.94494,     0.94595,     0.94695,     0.94795,     0.94895,     0.94995,     0.95095,     0.95195,     0.95295,     0.95395,     0.95495,     0.95596,     0.95696,     0.95796,     0.95896,     0.95996,\n",
       "           0.96096,     0.96196,     0.96296,     0.96396,     0.96496,     0.96597,     0.96697,     0.96797,     0.96897,     0.96997,     0.97097,     0.97197,     0.97297,     0.97397,     0.97497,     0.97598,     0.97698,     0.97798,     0.97898,     0.97998,     0.98098,     0.98198,     0.98298,     0.98398,\n",
       "           0.98498,     0.98599,     0.98699,     0.98799,     0.98899,     0.98999,     0.99099,     0.99199,     0.99299,     0.99399,     0.99499,       0.996,       0.997,       0.998,       0.999,           1]), array([[  0.0036601,   0.0036601,   0.0064649,   0.0096944,    0.010479,    0.017055,      0.1022,     0.19813,     0.22956,     0.25179,     0.27899,     0.29293,     0.30882,     0.31754,     0.32227,      0.3381,     0.34701,     0.35377,     0.36303,     0.36984,     0.37666,     0.37847,     0.38203,\n",
       "             0.3902,      0.3979,      0.4035,     0.40991,     0.41514,     0.42491,     0.42993,     0.43466,     0.43727,     0.44245,     0.44564,     0.45614,      0.4595,     0.46482,     0.47827,     0.48121,     0.48518,     0.48578,     0.48638,     0.48698,     0.48758,     0.49064,     0.49181,\n",
       "            0.49286,     0.49423,     0.49936,     0.50318,     0.50398,     0.50479,     0.50559,     0.50756,     0.51197,     0.51987,      0.5212,     0.52252,     0.52274,     0.52631,     0.52845,     0.53092,     0.53478,     0.53683,     0.53778,     0.53829,      0.5388,     0.53931,     0.53982,\n",
       "            0.54033,     0.54084,      0.5418,     0.54322,     0.54465,      0.5424,     0.54338,     0.54436,     0.54533,     0.54754,     0.54865,     0.54618,      0.5499,     0.55244,     0.55716,     0.55499,     0.55564,     0.55628,     0.55692,     0.55756,      0.5582,     0.55933,     0.56843,\n",
       "            0.57139,     0.57303,     0.57466,     0.57647,     0.57866,     0.58153,      0.5858,     0.58989,     0.59378,     0.59894,     0.61127,      0.6163,      0.6201,     0.62329,     0.62498,     0.62667,     0.62771,      0.6252,     0.63123,     0.63498,     0.63358,     0.63558,     0.63656,\n",
       "            0.63492,     0.63621,     0.63777,     0.63932,     0.64103,     0.64304,     0.64504,     0.65467,     0.65852,     0.66005,     0.66159,     0.66312,     0.66481,     0.66657,     0.66833,     0.66986,     0.67055,     0.67123,     0.67191,     0.67259,     0.67328,     0.67396,     0.67464,\n",
       "            0.67532,     0.67589,     0.67555,     0.67521,     0.67487,     0.67452,     0.67418,     0.67384,      0.6735,     0.67316,     0.67316,     0.67435,     0.67555,     0.67675,     0.67794,     0.67914,     0.67992,     0.68066,     0.68139,     0.68213,     0.68287,     0.68361,     0.68435,\n",
       "            0.68509,     0.68535,     0.68292,      0.6813,     0.67976,     0.68193,     0.68451,     0.68863,     0.69362,     0.69497,     0.69631,     0.69766,       0.699,     0.70701,     0.70665,     0.70629,     0.70593,     0.70557,     0.70521,     0.70485,     0.70449,     0.70413,     0.70665,\n",
       "            0.70959,     0.71207,     0.71388,     0.71568,     0.71749,     0.71897,     0.71971,     0.72045,     0.72119,     0.72192,     0.72266,      0.7234,     0.72414,     0.72487,     0.72561,     0.72627,      0.7253,     0.72433,     0.72346,     0.72483,      0.7262,     0.72757,     0.72894,\n",
       "            0.73031,     0.73115,     0.73107,     0.73098,     0.73089,     0.73081,     0.73072,     0.73064,     0.73055,     0.73046,     0.73038,     0.73029,      0.7302,     0.73012,     0.73003,     0.72995,     0.72986,     0.72977,     0.72969,      0.7296,     0.72952,     0.72943,     0.72934,\n",
       "            0.72926,     0.72917,     0.72909,       0.729,     0.72891,     0.72883,     0.72874,     0.72866,     0.72857,     0.72848,      0.7284,     0.72831,     0.72855,     0.72923,     0.72991,     0.73059,     0.73128,     0.73196,     0.73264,     0.73332,       0.734,     0.73468,     0.73537,\n",
       "            0.73605,     0.73725,     0.73869,     0.74012,     0.74156,       0.743,     0.74444,     0.74186,      0.7432,     0.74453,     0.74586,      0.7472,     0.74853,     0.74987,     0.75899,     0.75952,     0.76006,     0.76059,     0.76112,     0.76165,     0.76218,     0.76271,     0.76324,\n",
       "            0.76378,     0.76431,     0.76484,     0.76537,      0.7659,     0.76643,     0.76696,     0.76741,      0.7671,     0.76679,     0.76647,     0.76616,     0.76585,     0.76554,     0.76522,     0.76491,     0.76466,     0.76451,     0.76437,     0.76422,     0.76408,     0.76393,     0.76378,\n",
       "            0.76364,     0.76349,     0.76335,      0.7632,     0.76306,     0.76291,     0.76277,     0.76262,     0.76248,     0.76233,     0.76219,     0.76204,     0.76204,     0.76411,     0.76618,     0.76826,     0.77033,     0.77354,      0.7774,     0.78043,     0.78014,     0.77986,     0.77957,\n",
       "            0.77928,     0.77899,     0.77871,     0.77842,     0.77813,     0.77785,     0.78262,     0.79034,     0.79707,     0.79613,     0.79519,      0.7951,     0.79546,     0.79581,     0.79617,     0.79652,     0.79687,     0.79723,     0.79758,     0.79793,     0.79829,     0.79864,       0.799,\n",
       "            0.79935,      0.7997,     0.80006,     0.80041,     0.80076,     0.80112,     0.80147,     0.80183,     0.80218,     0.80253,     0.80289,     0.80324,     0.80359,     0.80395,      0.8043,     0.80466,     0.80501,     0.80599,     0.80766,     0.80934,     0.81101,     0.81268,     0.81435,\n",
       "            0.81577,     0.81562,     0.81546,     0.81531,     0.81516,       0.815,     0.81485,      0.8147,     0.81455,     0.81439,     0.81424,     0.81409,     0.81393,     0.81378,     0.81363,     0.81348,     0.81331,     0.81295,     0.81259,     0.81223,     0.81187,     0.81151,     0.81115,\n",
       "            0.81116,     0.81775,     0.82185,     0.82167,     0.82149,     0.82131,     0.82114,     0.82096,     0.82078,      0.8206,     0.82042,     0.82024,     0.82006,     0.81988,      0.8197,     0.81952,     0.82863,     0.83333,     0.83606,      0.8388,     0.84153,     0.84281,     0.84273,\n",
       "            0.84265,     0.84257,     0.84249,      0.8424,     0.84232,     0.84224,     0.84216,     0.84207,     0.84199,     0.84191,     0.84183,     0.84174,     0.84166,     0.84158,      0.8415,     0.84141,     0.84133,     0.84125,     0.84117,     0.84108,       0.841,     0.84092,     0.84084,\n",
       "            0.84075,     0.84067,     0.84059,     0.84145,     0.84245,     0.84345,     0.84444,     0.84544,     0.84644,     0.84744,     0.84843,     0.84943,     0.85043,     0.85143,     0.85242,     0.85283,     0.85259,     0.85235,     0.85212,     0.85188,     0.85164,     0.85141,     0.85117,\n",
       "            0.85093,     0.85085,     0.85133,      0.8518,     0.85228,     0.85275,     0.85323,     0.85371,     0.85418,     0.85466,     0.85514,     0.85561,     0.85609,     0.85656,     0.85704,     0.85752,     0.85799,     0.85847,     0.85894,     0.85942,      0.8599,     0.86037,     0.86085,\n",
       "            0.86133,      0.8618,     0.86228,     0.86275,     0.86323,     0.86362,     0.86352,     0.86342,     0.86333,     0.86323,     0.86313,     0.86303,     0.86293,     0.86283,     0.86274,     0.86264,     0.86254,     0.86244,     0.86234,     0.86224,     0.86214,     0.86205,     0.86195,\n",
       "            0.86185,     0.86175,     0.86165,     0.86155,     0.86135,     0.86112,      0.8609,     0.86068,     0.86045,     0.86023,        0.86,     0.85978,     0.85955,     0.85931,     0.85898,     0.85866,     0.85834,     0.85802,     0.85769,     0.85737,     0.85686,     0.85591,     0.85495,\n",
       "            0.85534,     0.85592,     0.85649,     0.85706,     0.85764,     0.85821,     0.85879,     0.85936,     0.85993,     0.86051,     0.86108,     0.86166,     0.86223,      0.8628,     0.86338,     0.86395,     0.86453,      0.8651,     0.86567,     0.86625,     0.86682,     0.86739,     0.86797,\n",
       "            0.86854,     0.86877,     0.86858,      0.8684,     0.86821,     0.86803,     0.86784,     0.86766,     0.86747,     0.86729,      0.8671,     0.86691,     0.86673,     0.86657,     0.86641,     0.86626,     0.86611,     0.86596,     0.86581,     0.86566,     0.86551,     0.86535,      0.8652,\n",
       "            0.86505,      0.8649,     0.86475,      0.8646,     0.86444,     0.86433,     0.86424,     0.86414,     0.86405,     0.86395,     0.86386,     0.86376,     0.86366,     0.86357,     0.86347,     0.86338,     0.86328,     0.86318,     0.86309,     0.86299,      0.8629,      0.8628,      0.8627,\n",
       "            0.86261,     0.86251,     0.86242,     0.86232,     0.86222,     0.86213,     0.86227,      0.8628,     0.86333,     0.86386,     0.86439,     0.86492,     0.86545,     0.86598,     0.86651,     0.86704,     0.86757,      0.8681,     0.86863,     0.86916,     0.86969,     0.87022,     0.87075,\n",
       "            0.87128,     0.87181,     0.87234,     0.87287,      0.8734,     0.87393,     0.87446,       0.875,     0.87553,     0.87606,     0.87659,     0.87712,      0.8769,     0.87655,      0.8762,     0.87586,     0.87551,     0.87516,     0.87489,     0.87469,     0.87449,     0.87428,     0.87408,\n",
       "            0.87388,     0.87368,     0.87347,     0.87327,     0.87307,     0.87286,     0.87267,      0.8725,     0.87232,     0.87215,     0.87198,      0.8718,     0.87163,     0.87146,     0.87128,     0.87111,     0.87094,     0.87076,     0.87059,     0.87042,     0.87007,     0.86966,     0.86925,\n",
       "            0.86884,     0.86844,     0.86803,      0.8677,      0.8674,      0.8671,      0.8668,      0.8665,      0.8662,      0.8659,      0.8656,     0.86526,     0.86484,     0.86442,     0.86401,     0.86359,     0.86317,     0.86275,     0.86252,      0.8623,     0.86207,     0.86184,     0.86162,\n",
       "            0.86139,     0.86116,     0.86094,     0.86071,     0.86048,     0.86026,     0.86003,     0.86163,     0.86686,      0.8721,      0.8749,     0.87468,     0.87446,     0.87424,     0.87402,      0.8738,     0.87358,     0.87336,     0.87314,     0.87292,      0.8727,     0.87248,     0.87256,\n",
       "            0.87316,     0.87376,     0.87436,     0.87496,     0.87556,     0.87616,     0.87676,     0.87736,     0.87796,     0.87856,     0.87916,     0.87976,     0.88036,     0.88096,     0.88156,     0.88216,     0.88276,     0.88336,     0.88396,     0.88456,     0.88516,     0.88576,     0.88636,\n",
       "            0.88696,     0.88756,     0.88816,     0.88876,     0.88936,     0.88996,     0.89056,     0.89116,     0.88879,      0.8886,      0.8884,     0.88821,     0.88802,     0.88782,     0.88763,     0.88744,     0.88725,     0.88705,     0.88686,     0.88667,     0.88648,     0.88627,     0.88603,\n",
       "             0.8858,     0.88556,     0.88533,     0.88509,     0.88486,     0.88462,     0.88439,     0.88415,     0.88392,     0.88094,      0.8804,     0.87987,     0.87933,     0.87879,     0.87826,     0.87694,     0.87513,     0.87249,     0.87157,     0.87128,     0.87098,     0.87069,     0.87039,\n",
       "             0.8701,      0.8698,     0.86951,     0.86921,     0.86891,     0.86862,     0.86807,       0.867,     0.86592,     0.86489,     0.86696,     0.86902,     0.87109,     0.87316,     0.87523,     0.87729,     0.87936,     0.88143,      0.8835,     0.88556,     0.88763,     0.88822,     0.88652,\n",
       "            0.91174,     0.91123,     0.91072,     0.91021,      0.9097,     0.90919,      0.9082,     0.90709,     0.90594,     0.90466,     0.90338,     0.90241,     0.90149,     0.90057,     0.89925,     0.89729,     0.89268,     0.89127,     0.88985,     0.88533,     0.88245,     0.88014,     0.91638,\n",
       "            0.91586,     0.91534,     0.91481,     0.91429,     0.91376,     0.91324,     0.91291,     0.91269,     0.91247,     0.91225,     0.91204,     0.91182,      0.9116,     0.91138,     0.91116,     0.91095,     0.91073,     0.91051,     0.91029,     0.91007,     0.90986,     0.90964,     0.90942,\n",
       "             0.9092,      0.9083,     0.90668,     0.90507,     0.90856,     0.91323,      0.9179,     0.92258,     0.92725,     0.93192,      0.9366,     0.94127,     0.94594,     0.94996,      0.9497,     0.94943,     0.94916,     0.94889,     0.94863,     0.94836,     0.94809,     0.94782,     0.94756,\n",
       "            0.94718,     0.94656,     0.94593,     0.94531,     0.94469,     0.94393,     0.94307,     0.94222,     0.94137,     0.94073,     0.94015,     0.93958,     0.93901,     0.93843,     0.93786,     0.93499,     0.93248,     0.93134,      0.9302,     0.92905,     0.93119,     0.93572,     0.94024,\n",
       "            0.94477,      0.9493,     0.95382,     0.95835,     0.96288,     0.96741,     0.97193,     0.97646,     0.98099,     0.98551,     0.99004,     0.99457,     0.99909,           1,           1,           1,           1,           1,           1,           1,           1,           1,           1,\n",
       "                  1,           1,           1,           1,           1,           1,           1,           1,           1,           1,           1,           1,           1,           1,           1,           1,           1,           1,           1,           1,           1,           1,           1,\n",
       "                  1,           1,           1,           1,           1,           1,           1,           1,           1,           1,           1,           1,           1,           1,           1,           1,           1,           1,           1,           1,           1,           1,           1,\n",
       "                  1,           1,           1,           1,           1,           1,           1,           1,           1,           1,           1,           1,           1,           1,           1,           1,           1,           1,           1,           1,           1,           1,           1,\n",
       "                  1,           1,           1,           1,           1,           1,           1,           1,           1,           1,           1]]), 'Confidence', 'Precision'], [array([          0,    0.001001,    0.002002,    0.003003,    0.004004,    0.005005,    0.006006,    0.007007,    0.008008,    0.009009,     0.01001,    0.011011,    0.012012,    0.013013,    0.014014,    0.015015,    0.016016,    0.017017,    0.018018,    0.019019,     0.02002,    0.021021,    0.022022,    0.023023,\n",
       "          0.024024,    0.025025,    0.026026,    0.027027,    0.028028,    0.029029,     0.03003,    0.031031,    0.032032,    0.033033,    0.034034,    0.035035,    0.036036,    0.037037,    0.038038,    0.039039,     0.04004,    0.041041,    0.042042,    0.043043,    0.044044,    0.045045,    0.046046,    0.047047,\n",
       "          0.048048,    0.049049,     0.05005,    0.051051,    0.052052,    0.053053,    0.054054,    0.055055,    0.056056,    0.057057,    0.058058,    0.059059,     0.06006,    0.061061,    0.062062,    0.063063,    0.064064,    0.065065,    0.066066,    0.067067,    0.068068,    0.069069,     0.07007,    0.071071,\n",
       "          0.072072,    0.073073,    0.074074,    0.075075,    0.076076,    0.077077,    0.078078,    0.079079,     0.08008,    0.081081,    0.082082,    0.083083,    0.084084,    0.085085,    0.086086,    0.087087,    0.088088,    0.089089,     0.09009,    0.091091,    0.092092,    0.093093,    0.094094,    0.095095,\n",
       "          0.096096,    0.097097,    0.098098,    0.099099,      0.1001,      0.1011,      0.1021,      0.1031,      0.1041,     0.10511,     0.10611,     0.10711,     0.10811,     0.10911,     0.11011,     0.11111,     0.11211,     0.11311,     0.11411,     0.11512,     0.11612,     0.11712,     0.11812,     0.11912,\n",
       "           0.12012,     0.12112,     0.12212,     0.12312,     0.12412,     0.12513,     0.12613,     0.12713,     0.12813,     0.12913,     0.13013,     0.13113,     0.13213,     0.13313,     0.13413,     0.13514,     0.13614,     0.13714,     0.13814,     0.13914,     0.14014,     0.14114,     0.14214,     0.14314,\n",
       "           0.14414,     0.14515,     0.14615,     0.14715,     0.14815,     0.14915,     0.15015,     0.15115,     0.15215,     0.15315,     0.15415,     0.15516,     0.15616,     0.15716,     0.15816,     0.15916,     0.16016,     0.16116,     0.16216,     0.16316,     0.16416,     0.16517,     0.16617,     0.16717,\n",
       "           0.16817,     0.16917,     0.17017,     0.17117,     0.17217,     0.17317,     0.17417,     0.17518,     0.17618,     0.17718,     0.17818,     0.17918,     0.18018,     0.18118,     0.18218,     0.18318,     0.18418,     0.18519,     0.18619,     0.18719,     0.18819,     0.18919,     0.19019,     0.19119,\n",
       "           0.19219,     0.19319,     0.19419,      0.1952,      0.1962,      0.1972,      0.1982,      0.1992,      0.2002,      0.2012,      0.2022,      0.2032,      0.2042,     0.20521,     0.20621,     0.20721,     0.20821,     0.20921,     0.21021,     0.21121,     0.21221,     0.21321,     0.21421,     0.21522,\n",
       "           0.21622,     0.21722,     0.21822,     0.21922,     0.22022,     0.22122,     0.22222,     0.22322,     0.22422,     0.22523,     0.22623,     0.22723,     0.22823,     0.22923,     0.23023,     0.23123,     0.23223,     0.23323,     0.23423,     0.23524,     0.23624,     0.23724,     0.23824,     0.23924,\n",
       "           0.24024,     0.24124,     0.24224,     0.24324,     0.24424,     0.24525,     0.24625,     0.24725,     0.24825,     0.24925,     0.25025,     0.25125,     0.25225,     0.25325,     0.25425,     0.25526,     0.25626,     0.25726,     0.25826,     0.25926,     0.26026,     0.26126,     0.26226,     0.26326,\n",
       "           0.26426,     0.26527,     0.26627,     0.26727,     0.26827,     0.26927,     0.27027,     0.27127,     0.27227,     0.27327,     0.27427,     0.27528,     0.27628,     0.27728,     0.27828,     0.27928,     0.28028,     0.28128,     0.28228,     0.28328,     0.28428,     0.28529,     0.28629,     0.28729,\n",
       "           0.28829,     0.28929,     0.29029,     0.29129,     0.29229,     0.29329,     0.29429,      0.2953,      0.2963,      0.2973,      0.2983,      0.2993,      0.3003,      0.3013,      0.3023,      0.3033,      0.3043,     0.30531,     0.30631,     0.30731,     0.30831,     0.30931,     0.31031,     0.31131,\n",
       "           0.31231,     0.31331,     0.31431,     0.31532,     0.31632,     0.31732,     0.31832,     0.31932,     0.32032,     0.32132,     0.32232,     0.32332,     0.32432,     0.32533,     0.32633,     0.32733,     0.32833,     0.32933,     0.33033,     0.33133,     0.33233,     0.33333,     0.33433,     0.33534,\n",
       "           0.33634,     0.33734,     0.33834,     0.33934,     0.34034,     0.34134,     0.34234,     0.34334,     0.34434,     0.34535,     0.34635,     0.34735,     0.34835,     0.34935,     0.35035,     0.35135,     0.35235,     0.35335,     0.35435,     0.35536,     0.35636,     0.35736,     0.35836,     0.35936,\n",
       "           0.36036,     0.36136,     0.36236,     0.36336,     0.36436,     0.36537,     0.36637,     0.36737,     0.36837,     0.36937,     0.37037,     0.37137,     0.37237,     0.37337,     0.37437,     0.37538,     0.37638,     0.37738,     0.37838,     0.37938,     0.38038,     0.38138,     0.38238,     0.38338,\n",
       "           0.38438,     0.38539,     0.38639,     0.38739,     0.38839,     0.38939,     0.39039,     0.39139,     0.39239,     0.39339,     0.39439,      0.3954,      0.3964,      0.3974,      0.3984,      0.3994,      0.4004,      0.4014,      0.4024,      0.4034,      0.4044,     0.40541,     0.40641,     0.40741,\n",
       "           0.40841,     0.40941,     0.41041,     0.41141,     0.41241,     0.41341,     0.41441,     0.41542,     0.41642,     0.41742,     0.41842,     0.41942,     0.42042,     0.42142,     0.42242,     0.42342,     0.42442,     0.42543,     0.42643,     0.42743,     0.42843,     0.42943,     0.43043,     0.43143,\n",
       "           0.43243,     0.43343,     0.43443,     0.43544,     0.43644,     0.43744,     0.43844,     0.43944,     0.44044,     0.44144,     0.44244,     0.44344,     0.44444,     0.44545,     0.44645,     0.44745,     0.44845,     0.44945,     0.45045,     0.45145,     0.45245,     0.45345,     0.45445,     0.45546,\n",
       "           0.45646,     0.45746,     0.45846,     0.45946,     0.46046,     0.46146,     0.46246,     0.46346,     0.46446,     0.46547,     0.46647,     0.46747,     0.46847,     0.46947,     0.47047,     0.47147,     0.47247,     0.47347,     0.47447,     0.47548,     0.47648,     0.47748,     0.47848,     0.47948,\n",
       "           0.48048,     0.48148,     0.48248,     0.48348,     0.48448,     0.48549,     0.48649,     0.48749,     0.48849,     0.48949,     0.49049,     0.49149,     0.49249,     0.49349,     0.49449,      0.4955,      0.4965,      0.4975,      0.4985,      0.4995,      0.5005,      0.5015,      0.5025,      0.5035,\n",
       "            0.5045,     0.50551,     0.50651,     0.50751,     0.50851,     0.50951,     0.51051,     0.51151,     0.51251,     0.51351,     0.51451,     0.51552,     0.51652,     0.51752,     0.51852,     0.51952,     0.52052,     0.52152,     0.52252,     0.52352,     0.52452,     0.52553,     0.52653,     0.52753,\n",
       "           0.52853,     0.52953,     0.53053,     0.53153,     0.53253,     0.53353,     0.53453,     0.53554,     0.53654,     0.53754,     0.53854,     0.53954,     0.54054,     0.54154,     0.54254,     0.54354,     0.54454,     0.54555,     0.54655,     0.54755,     0.54855,     0.54955,     0.55055,     0.55155,\n",
       "           0.55255,     0.55355,     0.55455,     0.55556,     0.55656,     0.55756,     0.55856,     0.55956,     0.56056,     0.56156,     0.56256,     0.56356,     0.56456,     0.56557,     0.56657,     0.56757,     0.56857,     0.56957,     0.57057,     0.57157,     0.57257,     0.57357,     0.57457,     0.57558,\n",
       "           0.57658,     0.57758,     0.57858,     0.57958,     0.58058,     0.58158,     0.58258,     0.58358,     0.58458,     0.58559,     0.58659,     0.58759,     0.58859,     0.58959,     0.59059,     0.59159,     0.59259,     0.59359,     0.59459,      0.5956,      0.5966,      0.5976,      0.5986,      0.5996,\n",
       "            0.6006,      0.6016,      0.6026,      0.6036,      0.6046,     0.60561,     0.60661,     0.60761,     0.60861,     0.60961,     0.61061,     0.61161,     0.61261,     0.61361,     0.61461,     0.61562,     0.61662,     0.61762,     0.61862,     0.61962,     0.62062,     0.62162,     0.62262,     0.62362,\n",
       "           0.62462,     0.62563,     0.62663,     0.62763,     0.62863,     0.62963,     0.63063,     0.63163,     0.63263,     0.63363,     0.63463,     0.63564,     0.63664,     0.63764,     0.63864,     0.63964,     0.64064,     0.64164,     0.64264,     0.64364,     0.64464,     0.64565,     0.64665,     0.64765,\n",
       "           0.64865,     0.64965,     0.65065,     0.65165,     0.65265,     0.65365,     0.65465,     0.65566,     0.65666,     0.65766,     0.65866,     0.65966,     0.66066,     0.66166,     0.66266,     0.66366,     0.66466,     0.66567,     0.66667,     0.66767,     0.66867,     0.66967,     0.67067,     0.67167,\n",
       "           0.67267,     0.67367,     0.67467,     0.67568,     0.67668,     0.67768,     0.67868,     0.67968,     0.68068,     0.68168,     0.68268,     0.68368,     0.68468,     0.68569,     0.68669,     0.68769,     0.68869,     0.68969,     0.69069,     0.69169,     0.69269,     0.69369,     0.69469,      0.6957,\n",
       "            0.6967,      0.6977,      0.6987,      0.6997,      0.7007,      0.7017,      0.7027,      0.7037,      0.7047,     0.70571,     0.70671,     0.70771,     0.70871,     0.70971,     0.71071,     0.71171,     0.71271,     0.71371,     0.71471,     0.71572,     0.71672,     0.71772,     0.71872,     0.71972,\n",
       "           0.72072,     0.72172,     0.72272,     0.72372,     0.72472,     0.72573,     0.72673,     0.72773,     0.72873,     0.72973,     0.73073,     0.73173,     0.73273,     0.73373,     0.73473,     0.73574,     0.73674,     0.73774,     0.73874,     0.73974,     0.74074,     0.74174,     0.74274,     0.74374,\n",
       "           0.74474,     0.74575,     0.74675,     0.74775,     0.74875,     0.74975,     0.75075,     0.75175,     0.75275,     0.75375,     0.75475,     0.75576,     0.75676,     0.75776,     0.75876,     0.75976,     0.76076,     0.76176,     0.76276,     0.76376,     0.76476,     0.76577,     0.76677,     0.76777,\n",
       "           0.76877,     0.76977,     0.77077,     0.77177,     0.77277,     0.77377,     0.77477,     0.77578,     0.77678,     0.77778,     0.77878,     0.77978,     0.78078,     0.78178,     0.78278,     0.78378,     0.78478,     0.78579,     0.78679,     0.78779,     0.78879,     0.78979,     0.79079,     0.79179,\n",
       "           0.79279,     0.79379,     0.79479,      0.7958,      0.7968,      0.7978,      0.7988,      0.7998,      0.8008,      0.8018,      0.8028,      0.8038,      0.8048,     0.80581,     0.80681,     0.80781,     0.80881,     0.80981,     0.81081,     0.81181,     0.81281,     0.81381,     0.81481,     0.81582,\n",
       "           0.81682,     0.81782,     0.81882,     0.81982,     0.82082,     0.82182,     0.82282,     0.82382,     0.82482,     0.82583,     0.82683,     0.82783,     0.82883,     0.82983,     0.83083,     0.83183,     0.83283,     0.83383,     0.83483,     0.83584,     0.83684,     0.83784,     0.83884,     0.83984,\n",
       "           0.84084,     0.84184,     0.84284,     0.84384,     0.84484,     0.84585,     0.84685,     0.84785,     0.84885,     0.84985,     0.85085,     0.85185,     0.85285,     0.85385,     0.85485,     0.85586,     0.85686,     0.85786,     0.85886,     0.85986,     0.86086,     0.86186,     0.86286,     0.86386,\n",
       "           0.86486,     0.86587,     0.86687,     0.86787,     0.86887,     0.86987,     0.87087,     0.87187,     0.87287,     0.87387,     0.87487,     0.87588,     0.87688,     0.87788,     0.87888,     0.87988,     0.88088,     0.88188,     0.88288,     0.88388,     0.88488,     0.88589,     0.88689,     0.88789,\n",
       "           0.88889,     0.88989,     0.89089,     0.89189,     0.89289,     0.89389,     0.89489,      0.8959,      0.8969,      0.8979,      0.8989,      0.8999,      0.9009,      0.9019,      0.9029,      0.9039,      0.9049,     0.90591,     0.90691,     0.90791,     0.90891,     0.90991,     0.91091,     0.91191,\n",
       "           0.91291,     0.91391,     0.91491,     0.91592,     0.91692,     0.91792,     0.91892,     0.91992,     0.92092,     0.92192,     0.92292,     0.92392,     0.92492,     0.92593,     0.92693,     0.92793,     0.92893,     0.92993,     0.93093,     0.93193,     0.93293,     0.93393,     0.93493,     0.93594,\n",
       "           0.93694,     0.93794,     0.93894,     0.93994,     0.94094,     0.94194,     0.94294,     0.94394,     0.94494,     0.94595,     0.94695,     0.94795,     0.94895,     0.94995,     0.95095,     0.95195,     0.95295,     0.95395,     0.95495,     0.95596,     0.95696,     0.95796,     0.95896,     0.95996,\n",
       "           0.96096,     0.96196,     0.96296,     0.96396,     0.96496,     0.96597,     0.96697,     0.96797,     0.96897,     0.96997,     0.97097,     0.97197,     0.97297,     0.97397,     0.97497,     0.97598,     0.97698,     0.97798,     0.97898,     0.97998,     0.98098,     0.98198,     0.98298,     0.98398,\n",
       "           0.98498,     0.98599,     0.98699,     0.98799,     0.98899,     0.98999,     0.99099,     0.99199,     0.99299,     0.99399,     0.99499,       0.996,       0.997,       0.998,       0.999,           1]), array([[          1,           1,           1,           1,           1,           1,           1,           1,           1,           1,           1,           1,           1,      0.9878,     0.97561,     0.97561,     0.97561,     0.97561,     0.97561,     0.97561,     0.97561,     0.97561,     0.97561,\n",
       "            0.97561,     0.97561,     0.97561,     0.97561,     0.97561,     0.97561,     0.97561,     0.97561,     0.97561,     0.97561,     0.97561,     0.97561,     0.97561,     0.97561,     0.97561,     0.97561,     0.97561,     0.97561,     0.97561,     0.97561,     0.97561,     0.97561,     0.97561,\n",
       "            0.97561,     0.97561,     0.97561,     0.97561,     0.97561,     0.97561,     0.97561,     0.97561,     0.97561,     0.97561,     0.97561,     0.97561,     0.96341,     0.96341,     0.96341,     0.96341,     0.96341,     0.96341,     0.96341,     0.96341,     0.96341,     0.96341,     0.96341,\n",
       "            0.96341,     0.96341,     0.96341,     0.96341,     0.96341,     0.95122,     0.95122,     0.95122,     0.95122,     0.95122,     0.94874,     0.93934,     0.93902,     0.93902,     0.93597,     0.92683,     0.92683,     0.92683,     0.92683,     0.92683,     0.92683,     0.92683,     0.92683,\n",
       "            0.92683,     0.92683,     0.92683,     0.92683,     0.92683,     0.92683,     0.92683,     0.92683,     0.92683,     0.92683,     0.92683,     0.92683,     0.92683,     0.92683,     0.92683,     0.92683,     0.92529,     0.91543,     0.91463,     0.91223,     0.90677,     0.90244,     0.89711,\n",
       "            0.89078,     0.89024,     0.89024,     0.89024,     0.89024,     0.89024,     0.89024,     0.89024,     0.89024,     0.89024,     0.89024,     0.89024,     0.89024,     0.89024,     0.89024,     0.89024,     0.89024,     0.89024,     0.89024,     0.89024,     0.89024,     0.89024,     0.89024,\n",
       "            0.89024,     0.89008,     0.88871,     0.88734,     0.88597,      0.8846,     0.88323,     0.88186,     0.88049,     0.87912,     0.87805,     0.87805,     0.87805,     0.87805,     0.87805,     0.87805,     0.87805,     0.87805,     0.87805,     0.87805,     0.87805,     0.87805,     0.87805,\n",
       "            0.87805,     0.87659,     0.86678,     0.86035,     0.85426,     0.85366,     0.85366,     0.85366,     0.85366,     0.85366,     0.85366,     0.85366,     0.85366,      0.8534,     0.85194,     0.85047,       0.849,     0.84753,     0.84606,     0.84459,     0.84312,     0.84165,     0.84146,\n",
       "            0.84146,     0.84146,     0.84146,     0.84146,     0.84146,     0.84146,     0.84146,     0.84146,     0.84146,     0.84146,     0.84146,     0.84146,     0.84146,     0.84146,     0.84146,     0.84128,     0.83722,     0.83316,     0.82927,     0.82927,     0.82927,     0.82927,     0.82927,\n",
       "            0.82927,     0.82914,     0.82878,     0.82842,     0.82806,      0.8277,     0.82734,     0.82698,     0.82662,     0.82626,      0.8259,     0.82554,     0.82519,     0.82483,     0.82447,     0.82411,     0.82375,     0.82339,     0.82303,     0.82267,     0.82231,     0.82195,     0.82159,\n",
       "            0.82123,     0.82087,     0.82052,     0.82016,      0.8198,     0.81944,     0.81908,     0.81872,     0.81836,       0.818,     0.81764,     0.81728,     0.81707,     0.81707,     0.81707,     0.81707,     0.81707,     0.81707,     0.81707,     0.81707,     0.81707,     0.81707,     0.81707,\n",
       "            0.81707,     0.81707,     0.81707,     0.81707,     0.81707,     0.81707,     0.81707,     0.80488,     0.80488,     0.80488,     0.80488,     0.80488,     0.80488,     0.80488,     0.80488,     0.80488,     0.80488,     0.80488,     0.80488,     0.80488,     0.80488,     0.80488,     0.80488,\n",
       "            0.80488,     0.80488,     0.80488,     0.80488,     0.80488,     0.80488,     0.80488,     0.80474,     0.80335,     0.80196,     0.80056,     0.79917,     0.79778,     0.79639,     0.79499,      0.7936,     0.79247,     0.79183,      0.7912,     0.79057,     0.78994,      0.7893,     0.78867,\n",
       "            0.78804,     0.78741,     0.78677,     0.78614,     0.78551,     0.78488,     0.78424,     0.78361,     0.78298,     0.78235,     0.78171,     0.78108,     0.78049,     0.78049,     0.78049,     0.78049,     0.78049,     0.78049,     0.78049,     0.78023,     0.77894,     0.77765,     0.77635,\n",
       "            0.77506,     0.77377,     0.77247,     0.77118,     0.76989,      0.7686,     0.76829,     0.76829,      0.7664,       0.762,     0.75761,      0.7561,      0.7561,      0.7561,      0.7561,      0.7561,      0.7561,      0.7561,      0.7561,      0.7561,      0.7561,      0.7561,      0.7561,\n",
       "             0.7561,      0.7561,      0.7561,      0.7561,      0.7561,      0.7561,      0.7561,      0.7561,      0.7561,      0.7561,      0.7561,      0.7561,      0.7561,      0.7561,      0.7561,      0.7561,      0.7561,      0.7561,      0.7561,      0.7561,      0.7561,      0.7561,      0.7561,\n",
       "            0.75599,     0.75523,     0.75447,     0.75371,     0.75296,      0.7522,     0.75144,     0.75068,     0.74992,     0.74916,      0.7484,     0.74765,     0.74689,     0.74613,     0.74537,     0.74461,     0.74379,     0.74205,     0.74031,     0.73857,     0.73683,     0.73509,     0.73335,\n",
       "            0.73171,     0.73171,     0.73138,      0.7305,     0.72962,     0.72873,     0.72785,     0.72697,     0.72608,      0.7252,     0.72432,     0.72343,     0.72255,     0.72167,     0.72078,      0.7199,     0.71951,     0.71951,     0.71951,     0.71951,     0.71951,     0.71929,     0.71884,\n",
       "             0.7184,     0.71796,     0.71752,     0.71708,     0.71664,      0.7162,     0.71576,     0.71531,     0.71487,     0.71443,     0.71399,     0.71355,     0.71311,     0.71267,     0.71223,     0.71178,     0.71134,      0.7109,     0.71046,     0.71002,     0.70958,     0.70914,      0.7087,\n",
       "            0.70826,     0.70781,     0.70737,     0.70732,     0.70732,     0.70732,     0.70732,     0.70732,     0.70732,     0.70732,     0.70732,     0.70732,     0.70732,     0.70732,     0.70732,     0.70668,     0.70537,     0.70405,     0.70273,     0.70142,      0.7001,     0.69878,     0.69747,\n",
       "            0.69615,     0.69512,     0.69512,     0.69512,     0.69512,     0.69512,     0.69512,     0.69512,     0.69512,     0.69512,     0.69512,     0.69512,     0.69512,     0.69512,     0.69512,     0.69512,     0.69512,     0.69512,     0.69512,     0.69512,     0.69512,     0.69512,     0.69512,\n",
       "            0.69512,     0.69512,     0.69512,     0.69512,     0.69512,     0.69504,     0.69447,     0.69389,     0.69332,     0.69275,     0.69218,      0.6916,     0.69103,     0.69046,     0.68989,     0.68931,     0.68874,     0.68817,      0.6876,     0.68702,     0.68645,     0.68588,     0.68531,\n",
       "            0.68473,     0.68416,     0.68359,     0.68302,     0.68186,     0.68059,     0.67933,     0.67806,      0.6768,     0.67553,     0.67426,       0.673,     0.67173,     0.67036,      0.6686,     0.66683,     0.66507,     0.66331,     0.66155,     0.65978,     0.65706,     0.65201,     0.64695,\n",
       "            0.64634,     0.64634,     0.64634,     0.64634,     0.64634,     0.64634,     0.64634,     0.64634,     0.64634,     0.64634,     0.64634,     0.64634,     0.64634,     0.64634,     0.64634,     0.64634,     0.64634,     0.64634,     0.64634,     0.64634,     0.64634,     0.64634,     0.64634,\n",
       "            0.64634,     0.64587,     0.64483,      0.6438,     0.64277,     0.64173,      0.6407,     0.63966,     0.63863,      0.6376,     0.63656,     0.63553,     0.63449,      0.6336,     0.63279,     0.63197,     0.63115,     0.63033,     0.62951,      0.6287,     0.62788,     0.62706,     0.62624,\n",
       "            0.62543,     0.62461,     0.62379,     0.62297,     0.62215,     0.62157,     0.62107,     0.62057,     0.62007,     0.61957,     0.61907,     0.61857,     0.61807,     0.61757,     0.61707,     0.61657,     0.61607,     0.61557,     0.61507,     0.61457,     0.61407,     0.61357,     0.61307,\n",
       "            0.61257,     0.61207,     0.61157,     0.61107,     0.61057,     0.61007,     0.60976,     0.60976,     0.60976,     0.60976,     0.60976,     0.60976,     0.60976,     0.60976,     0.60976,     0.60976,     0.60976,     0.60976,     0.60976,     0.60976,     0.60976,     0.60976,     0.60976,\n",
       "            0.60976,     0.60976,     0.60976,     0.60976,     0.60976,     0.60976,     0.60976,     0.60976,     0.60976,     0.60976,     0.60976,     0.60976,     0.60811,     0.60618,     0.60425,     0.60232,      0.6004,     0.59847,     0.59699,      0.5959,     0.59481,     0.59372,     0.59263,\n",
       "            0.59154,     0.59046,     0.58937,     0.58828,     0.58719,      0.5861,     0.58508,     0.58418,     0.58328,     0.58238,     0.58148,     0.58059,     0.57969,     0.57879,     0.57789,     0.57699,      0.5761,      0.5752,      0.5743,      0.5734,     0.57166,     0.56963,      0.5676,\n",
       "            0.56557,     0.56353,      0.5615,      0.5599,     0.55846,     0.55702,     0.55557,     0.55413,     0.55269,     0.55124,      0.5498,     0.54821,     0.54628,     0.54434,     0.54241,     0.54048,     0.53854,     0.53661,     0.53559,     0.53459,     0.53358,     0.53258,     0.53157,\n",
       "            0.53057,     0.52956,     0.52855,     0.52755,     0.52654,     0.52554,     0.52453,      0.5122,      0.5122,      0.5122,     0.51174,     0.51073,     0.50972,     0.50871,     0.50771,      0.5067,     0.50569,     0.50468,     0.50367,     0.50266,     0.50165,     0.50064,         0.5,\n",
       "                0.5,         0.5,         0.5,         0.5,         0.5,         0.5,         0.5,         0.5,         0.5,         0.5,         0.5,         0.5,         0.5,         0.5,         0.5,         0.5,         0.5,         0.5,         0.5,         0.5,         0.5,         0.5,         0.5,\n",
       "                0.5,         0.5,         0.5,         0.5,         0.5,         0.5,         0.5,         0.5,     0.48732,     0.48639,     0.48546,     0.48453,      0.4836,     0.48267,     0.48174,     0.48081,     0.47988,     0.47895,     0.47802,     0.47709,     0.47616,     0.47516,     0.47408,\n",
       "            0.47299,     0.47191,     0.47083,     0.46974,     0.46866,     0.46757,     0.46649,     0.46541,     0.46432,     0.45118,     0.44892,     0.44666,     0.44441,     0.44215,     0.43989,     0.43458,     0.42735,     0.41727,     0.41384,     0.41277,      0.4117,     0.41063,     0.40957,\n",
       "             0.4085,     0.40743,     0.40636,     0.40529,     0.40422,     0.40315,     0.40123,     0.39755,     0.39388,     0.39024,     0.39024,     0.39024,     0.39024,     0.39024,     0.39024,     0.39024,     0.39024,     0.39024,     0.39024,     0.39024,     0.39024,     0.38768,     0.38115,\n",
       "            0.37794,     0.37561,     0.37329,     0.37097,     0.36864,     0.36632,     0.36204,     0.35728,     0.35242,     0.34725,     0.34208,     0.33839,      0.3349,     0.33141,     0.32661,      0.3197,     0.30435,         0.3,     0.29565,     0.28254,     0.27478,     0.26867,     0.26734,\n",
       "            0.26557,     0.26381,     0.26205,     0.26029,     0.25852,     0.25676,     0.25568,     0.25501,     0.25433,     0.25366,     0.25299,     0.25232,     0.25164,     0.25097,      0.2503,     0.24963,     0.24895,     0.24828,     0.24761,     0.24694,     0.24626,     0.24559,     0.24492,\n",
       "            0.24425,     0.24167,     0.23712,     0.23256,     0.23171,     0.23171,     0.23171,     0.23171,     0.23171,     0.23171,     0.23171,     0.23171,     0.23171,     0.23154,      0.2303,     0.22906,     0.22782,     0.22658,     0.22534,      0.2241,     0.22286,     0.22162,     0.22038,\n",
       "            0.21873,     0.21613,     0.21353,     0.21093,     0.20833,     0.20538,      0.2022,     0.19901,     0.19583,     0.19364,     0.19173,     0.18983,     0.18792,     0.18601,     0.18411,     0.17558,     0.16854,     0.16562,      0.1627,     0.15977,     0.15854,     0.15854,     0.15854,\n",
       "            0.15854,     0.15854,     0.15854,     0.15854,     0.15854,     0.15854,     0.15854,     0.15854,     0.15854,     0.15854,     0.15854,     0.15854,     0.15854,      0.1449,      0.1431,     0.14129,     0.13949,     0.13769,     0.13588,     0.13394,     0.12845,     0.12297,     0.12061,\n",
       "            0.11896,     0.11732,     0.11567,     0.11403,     0.11238,     0.11073,      0.1055,    0.085347,    0.083667,    0.081986,    0.080305,    0.078625,    0.076944,    0.075264,    0.073583,    0.070282,    0.066455,    0.062627,    0.060018,    0.058332,    0.056647,    0.054962,    0.053277,\n",
       "           0.051592,    0.049907,    0.048358,    0.047082,    0.045807,    0.044532,    0.043257,    0.041982,    0.040707,    0.039432,    0.038157,    0.036881,    0.031128,    0.024327,    0.023113,    0.021898,    0.020684,     0.01947,    0.018255,    0.017041,    0.015827,    0.014612,    0.013398,\n",
       "                  0,           0,           0,           0,           0,           0,           0,           0,           0,           0,           0,           0,           0,           0,           0,           0,           0,           0,           0,           0,           0,           0,           0,\n",
       "                  0,           0,           0,           0,           0,           0,           0,           0,           0,           0,           0]]), 'Confidence', 'Recall']]\n",
       "fitness: np.float64(0.5786297183116789)\n",
       "keys: ['metrics/precision(B)', 'metrics/recall(B)', 'metrics/mAP50(B)', 'metrics/mAP50-95(B)']\n",
       "maps: array([    0.54903])\n",
       "names: {0: 'helmet'}\n",
       "plot: True\n",
       "results_dict: {'metrics/precision(B)': np.float64(0.7792815703596506), 'metrics/recall(B)': np.float64(0.7750597495452569), 'metrics/mAP50(B)': np.float64(0.8449869304997321), 'metrics/mAP50-95(B)': np.float64(0.5490344725130062), 'fitness': np.float64(0.5786297183116789)}\n",
       "save_dir: WindowsPath('helmet-detection/helmet_yolov8n')\n",
       "speed: {'preprocess': 1.1651199999808644, 'inference': 66.18388133317544, 'loss': 9.866664186120033e-05, 'postprocess': 3.470880000192362}\n",
       "task: 'detect'"
      ]
     },
     "execution_count": 10,
     "metadata": {},
     "output_type": "execute_result"
    }
   ],
   "source": [
    "from ultralytics import YOLO\n",
    "\n",
    "# Load a pre-trained YOLOv8 model \n",
    "model = YOLO(\"yolov8n.pt\")  # small model for fast training\n",
    "\n",
    "# Train the model on your dataset\n",
    "model.train(\n",
    "    data=\"yolo/data.yaml\",\n",
    "    epochs=5,\n",
    "    imgsz=416,\n",
    "    batch=16,\n",
    "    name=\"helmet_yolov8n\",\n",
    "    project=\"helmet-detection\"\n",
    ")\n"
   ]
  },
  {
   "cell_type": "code",
   "execution_count": 11,
   "id": "18eb9643-1a3c-419f-a9f7-9e1ea587a1d3",
   "metadata": {},
   "outputs": [
    {
     "name": "stdout",
     "output_type": "stream",
     "text": [
      "\n",
      "image 1/77 D:\\Zubair\\study\\Projects\\Helmet Detection using YOLOv8\\yolo\\images\\test\\BikesHelmets104.png: 288x416 2 helmets, 113.9ms\n",
      "image 2/77 D:\\Zubair\\study\\Projects\\Helmet Detection using YOLOv8\\yolo\\images\\test\\BikesHelmets119.png: 288x416 1 helmet, 82.1ms\n",
      "image 3/77 D:\\Zubair\\study\\Projects\\Helmet Detection using YOLOv8\\yolo\\images\\test\\BikesHelmets133.png: 288x416 (no detections), 70.6ms\n",
      "image 4/77 D:\\Zubair\\study\\Projects\\Helmet Detection using YOLOv8\\yolo\\images\\test\\BikesHelmets148.png: 416x416 2 helmets, 101.1ms\n",
      "image 5/77 D:\\Zubair\\study\\Projects\\Helmet Detection using YOLOv8\\yolo\\images\\test\\BikesHelmets152.png: 288x416 4 helmets, 85.5ms\n",
      "image 6/77 D:\\Zubair\\study\\Projects\\Helmet Detection using YOLOv8\\yolo\\images\\test\\BikesHelmets157.png: 256x416 1 helmet, 110.8ms\n",
      "image 7/77 D:\\Zubair\\study\\Projects\\Helmet Detection using YOLOv8\\yolo\\images\\test\\BikesHelmets158.png: 288x416 1 helmet, 84.3ms\n",
      "image 8/77 D:\\Zubair\\study\\Projects\\Helmet Detection using YOLOv8\\yolo\\images\\test\\BikesHelmets163.png: 288x416 3 helmets, 73.5ms\n",
      "image 9/77 D:\\Zubair\\study\\Projects\\Helmet Detection using YOLOv8\\yolo\\images\\test\\BikesHelmets169.png: 288x416 1 helmet, 76.8ms\n",
      "image 10/77 D:\\Zubair\\study\\Projects\\Helmet Detection using YOLOv8\\yolo\\images\\test\\BikesHelmets17.png: 256x416 2 helmets, 73.5ms\n",
      "image 11/77 D:\\Zubair\\study\\Projects\\Helmet Detection using YOLOv8\\yolo\\images\\test\\BikesHelmets174.png: 320x416 1 helmet, 119.1ms\n",
      "image 12/77 D:\\Zubair\\study\\Projects\\Helmet Detection using YOLOv8\\yolo\\images\\test\\BikesHelmets176.png: 288x416 1 helmet, 79.2ms\n",
      "image 13/77 D:\\Zubair\\study\\Projects\\Helmet Detection using YOLOv8\\yolo\\images\\test\\BikesHelmets186.png: 416x320 1 helmet, 113.9ms\n",
      "image 14/77 D:\\Zubair\\study\\Projects\\Helmet Detection using YOLOv8\\yolo\\images\\test\\BikesHelmets19.png: 320x416 2 helmets, 82.3ms\n",
      "image 15/77 D:\\Zubair\\study\\Projects\\Helmet Detection using YOLOv8\\yolo\\images\\test\\BikesHelmets197.png: 320x416 (no detections), 76.7ms\n",
      "image 16/77 D:\\Zubair\\study\\Projects\\Helmet Detection using YOLOv8\\yolo\\images\\test\\BikesHelmets204.png: 320x416 (no detections), 74.7ms\n",
      "image 17/77 D:\\Zubair\\study\\Projects\\Helmet Detection using YOLOv8\\yolo\\images\\test\\BikesHelmets206.png: 416x288 1 helmet, 110.5ms\n",
      "image 18/77 D:\\Zubair\\study\\Projects\\Helmet Detection using YOLOv8\\yolo\\images\\test\\BikesHelmets231.png: 256x416 1 helmet, 73.9ms\n",
      "image 19/77 D:\\Zubair\\study\\Projects\\Helmet Detection using YOLOv8\\yolo\\images\\test\\BikesHelmets238.png: 224x416 (no detections), 99.4ms\n",
      "image 20/77 D:\\Zubair\\study\\Projects\\Helmet Detection using YOLOv8\\yolo\\images\\test\\BikesHelmets25.png: 256x416 2 helmets, 82.2ms\n",
      "image 21/77 D:\\Zubair\\study\\Projects\\Helmet Detection using YOLOv8\\yolo\\images\\test\\BikesHelmets255.png: 288x416 2 helmets, 78.5ms\n",
      "image 22/77 D:\\Zubair\\study\\Projects\\Helmet Detection using YOLOv8\\yolo\\images\\test\\BikesHelmets261.png: 352x416 2 helmets, 121.7ms\n",
      "image 23/77 D:\\Zubair\\study\\Projects\\Helmet Detection using YOLOv8\\yolo\\images\\test\\BikesHelmets271.png: 320x416 5 helmets, 76.2ms\n",
      "image 24/77 D:\\Zubair\\study\\Projects\\Helmet Detection using YOLOv8\\yolo\\images\\test\\BikesHelmets275.png: 416x416 1 helmet, 94.6ms\n",
      "image 25/77 D:\\Zubair\\study\\Projects\\Helmet Detection using YOLOv8\\yolo\\images\\test\\BikesHelmets278.png: 288x416 1 helmet, 74.0ms\n",
      "image 26/77 D:\\Zubair\\study\\Projects\\Helmet Detection using YOLOv8\\yolo\\images\\test\\BikesHelmets288.png: 288x416 1 helmet, 76.6ms\n",
      "image 27/77 D:\\Zubair\\study\\Projects\\Helmet Detection using YOLOv8\\yolo\\images\\test\\BikesHelmets289.png: 416x352 1 helmet, 101.6ms\n",
      "image 28/77 D:\\Zubair\\study\\Projects\\Helmet Detection using YOLOv8\\yolo\\images\\test\\BikesHelmets297.png: 288x416 (no detections), 74.7ms\n",
      "image 29/77 D:\\Zubair\\study\\Projects\\Helmet Detection using YOLOv8\\yolo\\images\\test\\BikesHelmets302.png: 288x416 1 helmet, 76.6ms\n",
      "image 30/77 D:\\Zubair\\study\\Projects\\Helmet Detection using YOLOv8\\yolo\\images\\test\\BikesHelmets313.png: 224x416 3 helmets, 66.8ms\n",
      "image 31/77 D:\\Zubair\\study\\Projects\\Helmet Detection using YOLOv8\\yolo\\images\\test\\BikesHelmets320.png: 288x416 2 helmets, 87.4ms\n",
      "image 32/77 D:\\Zubair\\study\\Projects\\Helmet Detection using YOLOv8\\yolo\\images\\test\\BikesHelmets337.png: 416x416 1 helmet, 94.6ms\n",
      "image 33/77 D:\\Zubair\\study\\Projects\\Helmet Detection using YOLOv8\\yolo\\images\\test\\BikesHelmets363.png: 288x416 1 helmet, 83.3ms\n",
      "image 34/77 D:\\Zubair\\study\\Projects\\Helmet Detection using YOLOv8\\yolo\\images\\test\\BikesHelmets368.png: 256x416 1 helmet, 79.5ms\n",
      "image 35/77 D:\\Zubair\\study\\Projects\\Helmet Detection using YOLOv8\\yolo\\images\\test\\BikesHelmets381.png: 288x416 3 helmets, 78.2ms\n",
      "image 36/77 D:\\Zubair\\study\\Projects\\Helmet Detection using YOLOv8\\yolo\\images\\test\\BikesHelmets386.png: 256x416 4 helmets, 67.2ms\n",
      "image 37/77 D:\\Zubair\\study\\Projects\\Helmet Detection using YOLOv8\\yolo\\images\\test\\BikesHelmets390.png: 416x416 1 helmet, 98.6ms\n",
      "image 38/77 D:\\Zubair\\study\\Projects\\Helmet Detection using YOLOv8\\yolo\\images\\test\\BikesHelmets393.png: 352x416 (no detections), 80.3ms\n",
      "image 39/77 D:\\Zubair\\study\\Projects\\Helmet Detection using YOLOv8\\yolo\\images\\test\\BikesHelmets398.png: 256x416 1 helmet, 70.5ms\n",
      "image 40/77 D:\\Zubair\\study\\Projects\\Helmet Detection using YOLOv8\\yolo\\images\\test\\BikesHelmets399.png: 288x416 (no detections), 76.1ms\n",
      "image 41/77 D:\\Zubair\\study\\Projects\\Helmet Detection using YOLOv8\\yolo\\images\\test\\BikesHelmets41.png: 320x416 2 helmets, 79.8ms\n",
      "image 42/77 D:\\Zubair\\study\\Projects\\Helmet Detection using YOLOv8\\yolo\\images\\test\\BikesHelmets42.png: 352x416 1 helmet, 91.8ms\n",
      "image 43/77 D:\\Zubair\\study\\Projects\\Helmet Detection using YOLOv8\\yolo\\images\\test\\BikesHelmets422.png: 224x416 (no detections), 65.3ms\n",
      "image 44/77 D:\\Zubair\\study\\Projects\\Helmet Detection using YOLOv8\\yolo\\images\\test\\BikesHelmets429.png: 288x416 1 helmet, 69.6ms\n",
      "image 45/77 D:\\Zubair\\study\\Projects\\Helmet Detection using YOLOv8\\yolo\\images\\test\\BikesHelmets463.png: 288x416 3 helmets, 74.6ms\n",
      "image 46/77 D:\\Zubair\\study\\Projects\\Helmet Detection using YOLOv8\\yolo\\images\\test\\BikesHelmets484.png: 384x416 2 helmets, 121.3ms\n",
      "image 47/77 D:\\Zubair\\study\\Projects\\Helmet Detection using YOLOv8\\yolo\\images\\test\\BikesHelmets504.png: 320x416 (no detections), 80.4ms\n",
      "image 48/77 D:\\Zubair\\study\\Projects\\Helmet Detection using YOLOv8\\yolo\\images\\test\\BikesHelmets505.png: 288x416 (no detections), 78.4ms\n",
      "image 49/77 D:\\Zubair\\study\\Projects\\Helmet Detection using YOLOv8\\yolo\\images\\test\\BikesHelmets520.png: 256x416 4 helmets, 75.0ms\n",
      "image 50/77 D:\\Zubair\\study\\Projects\\Helmet Detection using YOLOv8\\yolo\\images\\test\\BikesHelmets529.png: 320x416 1 helmet, 76.6ms\n",
      "image 51/77 D:\\Zubair\\study\\Projects\\Helmet Detection using YOLOv8\\yolo\\images\\test\\BikesHelmets533.png: 288x416 1 helmet, 67.7ms\n",
      "image 52/77 D:\\Zubair\\study\\Projects\\Helmet Detection using YOLOv8\\yolo\\images\\test\\BikesHelmets546.png: 288x416 1 helmet, 69.8ms\n",
      "image 53/77 D:\\Zubair\\study\\Projects\\Helmet Detection using YOLOv8\\yolo\\images\\test\\BikesHelmets55.png: 416x320 (no detections), 84.8ms\n",
      "image 54/77 D:\\Zubair\\study\\Projects\\Helmet Detection using YOLOv8\\yolo\\images\\test\\BikesHelmets556.png: 288x416 1 helmet, 73.2ms\n",
      "image 55/77 D:\\Zubair\\study\\Projects\\Helmet Detection using YOLOv8\\yolo\\images\\test\\BikesHelmets557.png: 256x416 2 helmets, 75.4ms\n",
      "image 56/77 D:\\Zubair\\study\\Projects\\Helmet Detection using YOLOv8\\yolo\\images\\test\\BikesHelmets579.png: 256x416 1 helmet, 69.4ms\n",
      "image 57/77 D:\\Zubair\\study\\Projects\\Helmet Detection using YOLOv8\\yolo\\images\\test\\BikesHelmets58.png: 352x416 1 helmet, 86.2ms\n",
      "image 58/77 D:\\Zubair\\study\\Projects\\Helmet Detection using YOLOv8\\yolo\\images\\test\\BikesHelmets601.png: 416x320 (no detections), 79.4ms\n",
      "image 59/77 D:\\Zubair\\study\\Projects\\Helmet Detection using YOLOv8\\yolo\\images\\test\\BikesHelmets612.png: 320x416 1 helmet, 85.0ms\n",
      "image 60/77 D:\\Zubair\\study\\Projects\\Helmet Detection using YOLOv8\\yolo\\images\\test\\BikesHelmets618.png: 288x416 2 helmets, 79.6ms\n",
      "image 61/77 D:\\Zubair\\study\\Projects\\Helmet Detection using YOLOv8\\yolo\\images\\test\\BikesHelmets636.png: 256x416 3 helmets, 73.3ms\n",
      "image 62/77 D:\\Zubair\\study\\Projects\\Helmet Detection using YOLOv8\\yolo\\images\\test\\BikesHelmets64.png: 288x416 2 helmets, 75.2ms\n",
      "image 63/77 D:\\Zubair\\study\\Projects\\Helmet Detection using YOLOv8\\yolo\\images\\test\\BikesHelmets652.png: 416x320 2 helmets, 82.0ms\n",
      "image 64/77 D:\\Zubair\\study\\Projects\\Helmet Detection using YOLOv8\\yolo\\images\\test\\BikesHelmets663.png: 320x416 1 helmet, 73.0ms\n",
      "image 65/77 D:\\Zubair\\study\\Projects\\Helmet Detection using YOLOv8\\yolo\\images\\test\\BikesHelmets665.png: 320x416 2 helmets, 74.3ms\n",
      "image 66/77 D:\\Zubair\\study\\Projects\\Helmet Detection using YOLOv8\\yolo\\images\\test\\BikesHelmets693.png: 288x416 2 helmets, 76.8ms\n",
      "image 67/77 D:\\Zubair\\study\\Projects\\Helmet Detection using YOLOv8\\yolo\\images\\test\\BikesHelmets702.png: 288x416 (no detections), 74.9ms\n",
      "image 68/77 D:\\Zubair\\study\\Projects\\Helmet Detection using YOLOv8\\yolo\\images\\test\\BikesHelmets708.png: 320x416 (no detections), 69.4ms\n",
      "image 69/77 D:\\Zubair\\study\\Projects\\Helmet Detection using YOLOv8\\yolo\\images\\test\\BikesHelmets72.png: 288x416 1 helmet, 76.2ms\n",
      "image 70/77 D:\\Zubair\\study\\Projects\\Helmet Detection using YOLOv8\\yolo\\images\\test\\BikesHelmets722.png: 416x288 1 helmet, 84.4ms\n",
      "image 71/77 D:\\Zubair\\study\\Projects\\Helmet Detection using YOLOv8\\yolo\\images\\test\\BikesHelmets725.png: 288x416 (no detections), 76.0ms\n",
      "image 72/77 D:\\Zubair\\study\\Projects\\Helmet Detection using YOLOv8\\yolo\\images\\test\\BikesHelmets732.png: 288x416 1 helmet, 72.7ms\n",
      "image 73/77 D:\\Zubair\\study\\Projects\\Helmet Detection using YOLOv8\\yolo\\images\\test\\BikesHelmets745.png: 224x416 1 helmet, 58.8ms\n",
      "image 74/77 D:\\Zubair\\study\\Projects\\Helmet Detection using YOLOv8\\yolo\\images\\test\\BikesHelmets749.png: 352x416 1 helmet, 77.9ms\n",
      "image 75/77 D:\\Zubair\\study\\Projects\\Helmet Detection using YOLOv8\\yolo\\images\\test\\BikesHelmets756.png: 288x416 (no detections), 79.1ms\n",
      "image 76/77 D:\\Zubair\\study\\Projects\\Helmet Detection using YOLOv8\\yolo\\images\\test\\BikesHelmets758.png: 320x416 2 helmets, 78.1ms\n",
      "image 77/77 D:\\Zubair\\study\\Projects\\Helmet Detection using YOLOv8\\yolo\\images\\test\\BikesHelmets95.png: 416x416 2 helmets, 100.0ms\n",
      "Speed: 2.6ms preprocess, 82.2ms inference, 1.2ms postprocess per image at shape (1, 3, 416, 416)\n",
      "Results saved to \u001b[1mruns\\detect\\predict\u001b[0m\n"
     ]
    }
   ],
   "source": [
    "from ultralytics import YOLO\n",
    "\n",
    "# Load the trained model\n",
    "model = YOLO(\"helmet-detection/helmet_yolov8n/weights/best.pt\")\n",
    "\n",
    "# Run inference on test set\n",
    "results = model.predict(source=\"yolo/images/test\", save=True, conf=0.25)\n"
   ]
  },
  {
   "cell_type": "code",
   "execution_count": null,
   "id": "168348e6-668c-46cf-97e3-5a148acce2ca",
   "metadata": {},
   "outputs": [],
   "source": []
  }
 ],
 "metadata": {
  "kernelspec": {
   "display_name": "Python 3 (ipykernel)",
   "language": "python",
   "name": "python3"
  },
  "language_info": {
   "codemirror_mode": {
    "name": "ipython",
    "version": 3
   },
   "file_extension": ".py",
   "mimetype": "text/x-python",
   "name": "python",
   "nbconvert_exporter": "python",
   "pygments_lexer": "ipython3",
   "version": "3.12.3"
  }
 },
 "nbformat": 4,
 "nbformat_minor": 5
}
