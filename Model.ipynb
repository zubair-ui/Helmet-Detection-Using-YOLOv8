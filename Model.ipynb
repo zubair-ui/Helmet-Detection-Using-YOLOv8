{
 "cells": [
  {
   "cell_type": "markdown",
   "id": "9c7793dd-34ef-4bee-b72e-ea4381a8a7c6",
   "metadata": {},
   "source": [
    "# Helmet Detection using YOLOv8"
   ]
  },
  {
   "cell_type": "markdown",
   "id": "fdab75fc-9818-4b75-98c4-ffbc1f0f1419",
   "metadata": {},
   "source": [
    "## Change the structure for YOLO Compatibility"
   ]
  },
  {
   "cell_type": "code",
   "execution_count": 1,
   "id": "b0da945a-a356-42a2-a42d-377c050e3c44",
   "metadata": {},
   "outputs": [
    {
     "name": "stdout",
     "output_type": "stream",
     "text": [
      "✅ YOLOv8 folder structure created!\n"
     ]
    }
   ],
   "source": [
    "import os\n",
    "\n",
    "# YOLO structure\n",
    "for split in ['train', 'val', 'test']:\n",
    "    os.makedirs(f'yolo/images/{split}', exist_ok=True)\n",
    "    os.makedirs(f'yolo/labels/{split}', exist_ok=True)\n",
    "\n",
    "print(\"✅ YOLOv8 folder structure created!\")\n"
   ]
  },
  {
   "cell_type": "code",
   "execution_count": 2,
   "id": "90dee752-0a05-41a8-82c6-d4f7893e8512",
   "metadata": {},
   "outputs": [],
   "source": [
    "import xml.etree.ElementTree as ET\n",
    "from sklearn.model_selection import train_test_split\n",
    "from tqdm import tqdm\n",
    "import shutil\n",
    "\n",
    "ANNOTATIONS_DIR = 'annotations'\n",
    "IMAGES_DIR = 'images'\n",
    "\n",
    "def convert_bbox_to_yolo(size, box):\n",
    "    dw = 1. / size[0]\n",
    "    dh = 1. / size[1]\n",
    "    x_center = (box[0] + box[2]) / 2.0 * dw\n",
    "    y_center = (box[1] + box[3]) / 2.0 * dh\n",
    "    width = (box[2] - box[0]) * dw\n",
    "    height = (box[3] - box[1]) * dh\n",
    "    return (x_center, y_center, width, height)\n",
    "\n",
    "# Collect all file names\n",
    "all_files = [f for f in os.listdir(ANNOTATIONS_DIR) if f.endswith('.xml')]\n",
    "\n",
    "# Split into train/val/test\n",
    "train_files, test_files = train_test_split(all_files, test_size=0.2, random_state=42)\n",
    "val_files, test_files = train_test_split(test_files, test_size=0.5, random_state=42)\n",
    "splits = {'train': train_files, 'val': val_files, 'test': test_files}\n"
   ]
  },
  {
   "cell_type": "code",
   "execution_count": 3,
   "id": "dfad8b08-5f12-47f3-a15c-f176ee8c1300",
   "metadata": {},
   "outputs": [
    {
     "name": "stderr",
     "output_type": "stream",
     "text": [
      "Processing train set: 100%|██████████████████████████████████████████████████████████| 611/611 [00:18<00:00, 33.68it/s]\n",
      "Processing val set: 100%|██████████████████████████████████████████████████████████████| 76/76 [00:02<00:00, 32.17it/s]\n",
      "Processing test set: 100%|█████████████████████████████████████████████████████████████| 77/77 [00:01<00:00, 39.51it/s]\n"
     ]
    }
   ],
   "source": [
    "for split, files in splits.items():\n",
    "    for file in tqdm(files, desc=f\"Processing {split} set\"):\n",
    "        image_id = file.replace('.xml', '')\n",
    "        xml_path = os.path.join(ANNOTATIONS_DIR, file)\n",
    "        img_path = os.path.join(IMAGES_DIR, image_id + \".png\")\n",
    "        output_txt_path = f\"yolo/labels/{split}/{image_id}.txt\"\n",
    "        output_img_path = f\"yolo/images/{split}/{image_id}.png\"\n",
    "\n",
    "        tree = ET.parse(xml_path)\n",
    "        root = tree.getroot()\n",
    "        size = root.find('size')\n",
    "        w = int(size.find('width').text)\n",
    "        h = int(size.find('height').text)\n",
    "\n",
    "        with open(output_txt_path, \"w\") as f:\n",
    "            for obj in root.findall('object'):\n",
    "                label = obj.find('name').text\n",
    "                if label == \"With Helmet\":\n",
    "                    class_id = 0  # Only one class\n",
    "                else:\n",
    "                    continue  # Skip unknown classes\n",
    "                bndbox = obj.find('bndbox')\n",
    "                xmin = int(bndbox.find('xmin').text)\n",
    "                ymin = int(bndbox.find('ymin').text)\n",
    "                xmax = int(bndbox.find('xmax').text)\n",
    "                ymax = int(bndbox.find('ymax').text)\n",
    "                yolo_bbox = convert_bbox_to_yolo((w, h), (xmin, ymin, xmax, ymax))\n",
    "                f.write(f\"{class_id} \" + \" \".join(f\"{x:.6f}\" for x in yolo_bbox) + \"\\n\")\n",
    "\n",
    "        # Copy image to split folder\n",
    "        shutil.copy(img_path, output_img_path)\n"
   ]
  },
  {
   "cell_type": "code",
   "execution_count": 4,
   "id": "767438b9-04c9-495f-b8a8-9483446e2776",
   "metadata": {},
   "outputs": [
    {
     "name": "stdout",
     "output_type": "stream",
     "text": [
      "✅ data.yaml created!\n"
     ]
    }
   ],
   "source": [
    "yaml_text = \"\"\"\n",
    "train: yolo/images/train\n",
    "val: yolo/images/val\n",
    "test: yolo/images/test\n",
    "\n",
    "nc: 1\n",
    "names: ['helmet']\n",
    "\"\"\"\n",
    "\n",
    "with open(\"yolo/data.yaml\", \"w\") as f:\n",
    "    f.write(yaml_text.strip())\n",
    "\n",
    "print(\"✅ data.yaml created!\")\n"
   ]
  },
  {
   "cell_type": "code",
   "execution_count": 6,
   "id": "9ef34559-0e95-4cfc-9148-706aa33a1439",
   "metadata": {},
   "outputs": [
    {
     "name": "stdout",
     "output_type": "stream",
     "text": [
      "✅ data.yaml updated with absolute paths!\n"
     ]
    }
   ],
   "source": [
    "import os\n",
    "\n",
    "base_path = os.path.abspath(\"yolo\")\n",
    "\n",
    "data_yaml = f\"\"\"\n",
    "train: {os.path.join(base_path, 'images/train').replace(os.sep, '/')}\n",
    "val: {os.path.join(base_path, 'images/val').replace(os.sep, '/')}\n",
    "test: {os.path.join(base_path, 'images/test').replace(os.sep, '/')}\n",
    "\n",
    "nc: 1\n",
    "names: ['helmet']\n",
    "\"\"\"\n",
    "\n",
    "with open(os.path.join(base_path, \"data.yaml\"), \"w\") as f:\n",
    "    f.write(data_yaml.strip())\n",
    "\n",
    "print(\"✅ data.yaml updated with absolute paths!\")\n"
   ]
  },
  {
   "cell_type": "markdown",
   "id": "b5059931-a962-43be-a403-f60a03735425",
   "metadata": {},
   "source": [
    "## Train YOLOv8 on the dataset\n"
   ]
  },
  {
   "cell_type": "code",
   "execution_count": null,
   "id": "850133da-2821-44b4-a81c-c0330ced28ac",
   "metadata": {},
   "outputs": [],
   "source": []
  },
  {
   "cell_type": "code",
   "execution_count": null,
   "id": "18eb9643-1a3c-419f-a9f7-9e1ea587a1d3",
   "metadata": {},
   "outputs": [],
   "source": []
  }
 ],
 "metadata": {
  "kernelspec": {
   "display_name": "Python 3 (ipykernel)",
   "language": "python",
   "name": "python3"
  },
  "language_info": {
   "codemirror_mode": {
    "name": "ipython",
    "version": 3
   },
   "file_extension": ".py",
   "mimetype": "text/x-python",
   "name": "python",
   "nbconvert_exporter": "python",
   "pygments_lexer": "ipython3",
   "version": "3.12.3"
  }
 },
 "nbformat": 4,
 "nbformat_minor": 5
}
